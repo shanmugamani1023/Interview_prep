{
 "cells": [
  {
   "cell_type": "code",
   "execution_count": null,
   "id": "237b1a7f",
   "metadata": {},
   "outputs": [],
   "source": [
    "#abstrction"
   ]
  },
  {
   "cell_type": "code",
   "execution_count": 1,
   "id": "5a2a8f9d",
   "metadata": {},
   "outputs": [],
   "source": [
    "from abc import ABC,abstractmethod"
   ]
  },
  {
   "cell_type": "code",
   "execution_count": 2,
   "id": "f03bb764",
   "metadata": {},
   "outputs": [],
   "source": [
    "class shape(ABC):\n",
    "    @abstractmethod\n",
    "    def area(self,x,y):\n",
    "        pass\n",
    "    def s(self):\n",
    "        pass"
   ]
  },
  {
   "cell_type": "code",
   "execution_count": 6,
   "id": "9839c3fc",
   "metadata": {},
   "outputs": [],
   "source": [
    "class c(shape):\n",
    "    def area(self,x,y):\n",
    "        return x*y"
   ]
  },
  {
   "cell_type": "code",
   "execution_count": 7,
   "id": "f4d39f9d",
   "metadata": {},
   "outputs": [],
   "source": [
    "c=c()"
   ]
  },
  {
   "cell_type": "code",
   "execution_count": 10,
   "id": "a7280828",
   "metadata": {},
   "outputs": [
    {
     "data": {
      "text/plain": [
       "20000"
      ]
     },
     "execution_count": 10,
     "metadata": {},
     "output_type": "execute_result"
    }
   ],
   "source": [
    "c.area(100,bbb200)"
   ]
  },
  {
   "cell_type": "code",
   "execution_count": null,
   "id": "f51360cd",
   "metadata": {},
   "outputs": [],
   "source": []
  },
  {
   "cell_type": "code",
   "execution_count": 11,
   "id": "d863f0bf",
   "metadata": {},
   "outputs": [],
   "source": [
    "# draw tringles:"
   ]
  },
  {
   "cell_type": "code",
   "execution_count": 41,
   "id": "ec8553fa",
   "metadata": {},
   "outputs": [],
   "source": [
    "n=5"
   ]
  },
  {
   "cell_type": "code",
   "execution_count": 54,
   "id": "f9204c9f",
   "metadata": {},
   "outputs": [
    {
     "name": "stdout",
     "output_type": "stream",
     "text": [
      "....*\n",
      "...**\n",
      "..***\n",
      ".****\n",
      "*****\n"
     ]
    }
   ],
   "source": [
    "for i in range(1,n+1):\n",
    "    for k in range(n-i):\n",
    "        print(\".\",end=\"\")\n",
    "    for j in range(i):\n",
    "        print(\"*\",end=\"\")\n",
    "            \n",
    "    print()"
   ]
  },
  {
   "cell_type": "code",
   "execution_count": null,
   "id": "a87cbafd",
   "metadata": {},
   "outputs": [],
   "source": []
  },
  {
   "cell_type": "code",
   "execution_count": 55,
   "id": "d41f3b5a",
   "metadata": {},
   "outputs": [],
   "source": [
    "#fib series 0,1,1,2,3,4,5,...."
   ]
  },
  {
   "cell_type": "code",
   "execution_count": 56,
   "id": "bf761a9f",
   "metadata": {},
   "outputs": [],
   "source": [
    "# create 5 elements of fib series"
   ]
  },
  {
   "cell_type": "code",
   "execution_count": 57,
   "id": "af4a643f",
   "metadata": {},
   "outputs": [],
   "source": []
  },
  {
   "cell_type": "code",
   "execution_count": 58,
   "id": "7bf58b01",
   "metadata": {},
   "outputs": [],
   "source": []
  },
  {
   "cell_type": "code",
   "execution_count": 7,
   "id": "2a491f08",
   "metadata": {},
   "outputs": [
    {
     "name": "stdout",
     "output_type": "stream",
     "text": [
      "[0, 1, 1]\n",
      "[0, 1, 1, 2]\n",
      "[0, 1, 1, 2, 3]\n"
     ]
    }
   ],
   "source": [
    "l=[0,1]\n",
    "n=5\n",
    "while len(l)<n:\n",
    "    s=l[-1]+l[-2]\n",
    "    l.append(s)\n",
    "    print(l)\n",
    "\n",
    "    "
   ]
  },
  {
   "cell_type": "code",
   "execution_count": null,
   "id": "062c8058",
   "metadata": {},
   "outputs": [],
   "source": []
  },
  {
   "cell_type": "code",
   "execution_count": null,
   "id": "40727bfd",
   "metadata": {},
   "outputs": [],
   "source": [
    "# pallindrome"
   ]
  },
  {
   "cell_type": "code",
   "execution_count": 8,
   "id": "4aa5d4a7",
   "metadata": {},
   "outputs": [
    {
     "data": {
      "text/plain": [
       "'nahs'"
      ]
     },
     "execution_count": 8,
     "metadata": {},
     "output_type": "execute_result"
    }
   ],
   "source": [
    "i=\"shan\"\n",
    "o=i[::-1]\n",
    "o"
   ]
  },
  {
   "cell_type": "code",
   "execution_count": 10,
   "id": "3646428a",
   "metadata": {},
   "outputs": [
    {
     "name": "stdout",
     "output_type": "stream",
     "text": [
      "True\n"
     ]
    }
   ],
   "source": [
    "if o!=i:\n",
    "    print(True)"
   ]
  },
  {
   "cell_type": "code",
   "execution_count": 11,
   "id": "40e7e341",
   "metadata": {},
   "outputs": [],
   "source": [
    "import pandas as pd\n"
   ]
  },
  {
   "cell_type": "code",
   "execution_count": 21,
   "id": "e949ebbe",
   "metadata": {},
   "outputs": [],
   "source": [
    "# with open(\"1.txt\",encoding=\"utf-8\") as file:\n",
    "#     print(file)\n"
   ]
  },
  {
   "cell_type": "code",
   "execution_count": 22,
   "id": "0d94a7d0",
   "metadata": {},
   "outputs": [],
   "source": [
    "l=[1,2,10,4,11,90]"
   ]
  },
  {
   "cell_type": "code",
   "execution_count": 25,
   "id": "8338fde6",
   "metadata": {},
   "outputs": [],
   "source": [
    "l.sort()"
   ]
  },
  {
   "cell_type": "code",
   "execution_count": 26,
   "id": "1732f700",
   "metadata": {},
   "outputs": [
    {
     "data": {
      "text/plain": [
       "[1, 2, 4, 10, 11, 90]"
      ]
     },
     "execution_count": 26,
     "metadata": {},
     "output_type": "execute_result"
    }
   ],
   "source": [
    "l"
   ]
  }
 ],
 "metadata": {
  "kernelspec": {
   "display_name": "Python 3 (ipykernel)",
   "language": "python",
   "name": "python3"
  },
  "language_info": {
   "codemirror_mode": {
    "name": "ipython",
    "version": 3
   },
   "file_extension": ".py",
   "mimetype": "text/x-python",
   "name": "python",
   "nbconvert_exporter": "python",
   "pygments_lexer": "ipython3",
   "version": "3.11.4"
  }
 },
 "nbformat": 4,
 "nbformat_minor": 5
}
