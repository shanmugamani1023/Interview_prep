{
 "cells": [
  {
   "cell_type": "markdown",
   "id": "6789c04e",
   "metadata": {},
   "source": [
    ". Write a code snippet to reverse a string."
   ]
  },
  {
   "cell_type": "code",
   "execution_count": null,
   "id": "445154cb",
   "metadata": {},
   "outputs": [],
   "source": [
    "s=\"hai hello\""
   ]
  },
  {
   "cell_type": "code",
   "execution_count": null,
   "id": "1837753c",
   "metadata": {},
   "outputs": [],
   "source": [
    "s[::-1]"
   ]
  },
  {
   "cell_type": "code",
   "execution_count": null,
   "id": "2d175ac8",
   "metadata": {},
   "outputs": [],
   "source": []
  },
  {
   "cell_type": "code",
   "execution_count": null,
   "id": "71f10b85",
   "metadata": {},
   "outputs": [],
   "source": [
    "# Q5. What is the difference between mutable and immutable?"
   ]
  },
  {
   "cell_type": "code",
   "execution_count": null,
   "id": "87753a4c",
   "metadata": {},
   "outputs": [],
   "source": [
    "s=[1,2,3,4,5]"
   ]
  },
  {
   "cell_type": "code",
   "execution_count": null,
   "id": "3e3ff6e5",
   "metadata": {},
   "outputs": [],
   "source": [
    "s"
   ]
  },
  {
   "cell_type": "code",
   "execution_count": null,
   "id": "a1f7c9b3",
   "metadata": {},
   "outputs": [],
   "source": [
    "s.remove(1)"
   ]
  },
  {
   "cell_type": "code",
   "execution_count": null,
   "id": "d0c12a3b",
   "metadata": {},
   "outputs": [],
   "source": [
    "s.pop()"
   ]
  },
  {
   "cell_type": "code",
   "execution_count": null,
   "id": "cc228152",
   "metadata": {},
   "outputs": [],
   "source": [
    "s.pop(2)"
   ]
  },
  {
   "cell_type": "code",
   "execution_count": null,
   "id": "d90c0eb4",
   "metadata": {},
   "outputs": [],
   "source": [
    "s"
   ]
  },
  {
   "cell_type": "code",
   "execution_count": null,
   "id": "7d31f6fb",
   "metadata": {},
   "outputs": [],
   "source": [
    "s[0]=0"
   ]
  },
  {
   "cell_type": "code",
   "execution_count": null,
   "id": "a70bd66e",
   "metadata": {},
   "outputs": [],
   "source": [
    "s"
   ]
  },
  {
   "cell_type": "code",
   "execution_count": null,
   "id": "f8af1d6b",
   "metadata": {},
   "outputs": [],
   "source": [
    "t=(1,2,3,4,5)"
   ]
  },
  {
   "cell_type": "code",
   "execution_count": null,
   "id": "8e9c02ba",
   "metadata": {},
   "outputs": [],
   "source": [
    "t[1]=4"
   ]
  },
  {
   "cell_type": "code",
   "execution_count": null,
   "id": "614734f4",
   "metadata": {},
   "outputs": [],
   "source": []
  },
  {
   "cell_type": "code",
   "execution_count": null,
   "id": "6343ddc9",
   "metadata": {},
   "outputs": [],
   "source": [
    "#  Write a code snippet to reverse an array."
   ]
  },
  {
   "cell_type": "code",
   "execution_count": null,
   "id": "6dea51d7",
   "metadata": {},
   "outputs": [],
   "source": [
    "import numpy as np"
   ]
  },
  {
   "cell_type": "code",
   "execution_count": null,
   "id": "4e7edb50",
   "metadata": {},
   "outputs": [],
   "source": [
    "a=np.array([1,2,3,4])"
   ]
  },
  {
   "cell_type": "code",
   "execution_count": null,
   "id": "54d258c1",
   "metadata": {},
   "outputs": [],
   "source": [
    "np.flip(a)"
   ]
  },
  {
   "cell_type": "code",
   "execution_count": null,
   "id": "757dd0b4",
   "metadata": {},
   "outputs": [],
   "source": [
    "a[::-1]"
   ]
  },
  {
   "cell_type": "code",
   "execution_count": null,
   "id": "361f4413",
   "metadata": {},
   "outputs": [],
   "source": []
  },
  {
   "cell_type": "code",
   "execution_count": null,
   "id": "5e4eedf3",
   "metadata": {},
   "outputs": [],
   "source": [
    "# Q11. Write a code snippet to get an element, delete an element, and update an element in an array."
   ]
  },
  {
   "cell_type": "code",
   "execution_count": null,
   "id": "9c58da31",
   "metadata": {},
   "outputs": [],
   "source": [
    "a[0]=1"
   ]
  },
  {
   "cell_type": "code",
   "execution_count": null,
   "id": "2504f57c",
   "metadata": {},
   "outputs": [],
   "source": [
    "a[0]=9"
   ]
  },
  {
   "cell_type": "code",
   "execution_count": null,
   "id": "9bdb425e",
   "metadata": {},
   "outputs": [],
   "source": [
    "a"
   ]
  },
  {
   "cell_type": "code",
   "execution_count": null,
   "id": "e20465d7",
   "metadata": {},
   "outputs": [],
   "source": [
    "a[0]"
   ]
  },
  {
   "cell_type": "code",
   "execution_count": null,
   "id": "7c04987e",
   "metadata": {},
   "outputs": [],
   "source": [
    "np.delete(a,0)"
   ]
  },
  {
   "cell_type": "code",
   "execution_count": null,
   "id": "eb6de8fe",
   "metadata": {},
   "outputs": [],
   "source": [
    "a"
   ]
  },
  {
   "cell_type": "code",
   "execution_count": null,
   "id": "34ed932e",
   "metadata": {},
   "outputs": [],
   "source": [
    "i=np.where(a == 3)[0]"
   ]
  },
  {
   "cell_type": "code",
   "execution_count": null,
   "id": "ab8cf782",
   "metadata": {},
   "outputs": [],
   "source": [
    "c=np.delete(a,i)"
   ]
  },
  {
   "cell_type": "code",
   "execution_count": null,
   "id": "acd9c20e",
   "metadata": {},
   "outputs": [],
   "source": [
    "c"
   ]
  },
  {
   "cell_type": "code",
   "execution_count": null,
   "id": "257d0f64",
   "metadata": {},
   "outputs": [],
   "source": []
  },
  {
   "cell_type": "code",
   "execution_count": null,
   "id": "28329ce3",
   "metadata": {},
   "outputs": [],
   "source": [
    "a"
   ]
  },
  {
   "cell_type": "code",
   "execution_count": null,
   "id": "c803d262",
   "metadata": {},
   "outputs": [],
   "source": [
    "bbbb"
   ]
  },
  {
   "cell_type": "code",
   "execution_count": null,
   "id": "c6f732b1",
   "metadata": {},
   "outputs": [],
   "source": [
    "List1= ['W', 'a', 'w','b']\n",
    "List2 = ['e', '','riting','log']\n",
    "List3=[]"
   ]
  },
  {
   "cell_type": "code",
   "execution_count": null,
   "id": "f6b2eff9",
   "metadata": {},
   "outputs": [],
   "source": [
    "for i in range(len(List1)):\n",
    "        List3.append(List1[i]+List2[i])    "
   ]
  },
  {
   "cell_type": "code",
   "execution_count": null,
   "id": "d84b4c7a",
   "metadata": {},
   "outputs": [],
   "source": [
    "List3"
   ]
  },
  {
   "cell_type": "code",
   "execution_count": null,
   "id": "3a9a83a9",
   "metadata": {},
   "outputs": [],
   "source": [
    "\" \".join(List3)"
   ]
  },
  {
   "cell_type": "code",
   "execution_count": null,
   "id": "8b656386",
   "metadata": {},
   "outputs": [],
   "source": []
  },
  {
   "cell_type": "code",
   "execution_count": null,
   "id": "e0adbcdd",
   "metadata": {},
   "outputs": [],
   "source": [
    "# Q13. Write a code snippet to generate the square of every element of a list."
   ]
  },
  {
   "cell_type": "code",
   "execution_count": null,
   "id": "3ebd738d",
   "metadata": {},
   "outputs": [],
   "source": [
    "a=[1,2,3,4,5]"
   ]
  },
  {
   "cell_type": "code",
   "execution_count": null,
   "id": "31a6de4c",
   "metadata": {},
   "outputs": [],
   "source": [
    "x=list(map(lambda x:x**2,a))"
   ]
  },
  {
   "cell_type": "code",
   "execution_count": null,
   "id": "23ea73f3",
   "metadata": {},
   "outputs": [],
   "source": [
    "x"
   ]
  },
  {
   "cell_type": "code",
   "execution_count": null,
   "id": "d96534f9",
   "metadata": {},
   "outputs": [],
   "source": []
  },
  {
   "cell_type": "code",
   "execution_count": null,
   "id": "a0bf05a2",
   "metadata": {},
   "outputs": [],
   "source": []
  },
  {
   "cell_type": "code",
   "execution_count": null,
   "id": "8ac1b125",
   "metadata": {},
   "outputs": [],
   "source": [
    "s={1,2,3,4,5}\n",
    "s"
   ]
  },
  {
   "cell_type": "code",
   "execution_count": null,
   "id": "b3460ab5",
   "metadata": {},
   "outputs": [],
   "source": [
    "s.remove(7)\n",
    "s"
   ]
  },
  {
   "cell_type": "code",
   "execution_count": null,
   "id": "0bbad95e",
   "metadata": {},
   "outputs": [],
   "source": []
  },
  {
   "cell_type": "code",
   "execution_count": null,
   "id": "24cf5364",
   "metadata": {},
   "outputs": [],
   "source": [
    "# s.strip()\n",
    "# len(s)\n",
    "# s.split\n",
    "# s.replace(\"old\",\"new\")\n",
    "# s.upper()\n",
    "# s.lower()\n"
   ]
  },
  {
   "cell_type": "code",
   "execution_count": null,
   "id": "9e5dcc45",
   "metadata": {},
   "outputs": [],
   "source": []
  },
  {
   "cell_type": "code",
   "execution_count": null,
   "id": "d69d7cfb",
   "metadata": {},
   "outputs": [],
   "source": [
    "d=[1,2,3,4,5]\n",
    "x=[y for y in d ]\n",
    "xbb"
   ]
  },
  {
   "cell_type": "code",
   "execution_count": null,
   "id": "1ae1683c",
   "metadata": {},
   "outputs": [],
   "source": []
  },
  {
   "cell_type": "code",
   "execution_count": null,
   "id": "c55b8ef7",
   "metadata": {},
   "outputs": [],
   "source": [
    "x"
   ]
  },
  {
   "cell_type": "code",
   "execution_count": null,
   "id": "ad3466a8",
   "metadata": {},
   "outputs": [],
   "source": [
    "{i:i**2 for i in x}"
   ]
  },
  {
   "cell_type": "code",
   "execution_count": null,
   "id": "46e0a849",
   "metadata": {},
   "outputs": [],
   "source": []
  },
  {
   "cell_type": "code",
   "execution_count": null,
   "id": "8b4f1319",
   "metadata": {},
   "outputs": [],
   "source": [
    "def x(i):\n",
    "    for j in range(i):\n",
    "        yield j\n",
    "    "
   ]
  },
  {
   "cell_type": "code",
   "execution_count": null,
   "id": "1e5008ee",
   "metadata": {},
   "outputs": [],
   "source": [
    "d=x(5)"
   ]
  },
  {
   "cell_type": "code",
   "execution_count": null,
   "id": "58ecb280",
   "metadata": {},
   "outputs": [],
   "source": [
    "next(d)"
   ]
  },
  {
   "cell_type": "code",
   "execution_count": null,
   "id": "d2f3a0a1",
   "metadata": {},
   "outputs": [],
   "source": []
  },
  {
   "cell_type": "code",
   "execution_count": null,
   "id": "b16b3acb",
   "metadata": {},
   "outputs": [],
   "source": [
    "def dec(func):\n",
    "    def wrapper():\n",
    "        print(\"hello\")\n",
    "        func()\n",
    "        print(\"hai\")\n",
    "    return wrapper"
   ]
  },
  {
   "cell_type": "code",
   "execution_count": null,
   "id": "0d6af082",
   "metadata": {},
   "outputs": [],
   "source": [
    "@dec\n",
    "def f():\n",
    "    print(\"shan\")"
   ]
  },
  {
   "cell_type": "code",
   "execution_count": null,
   "id": "216be9c7",
   "metadata": {},
   "outputs": [],
   "source": [
    "f()"
   ]
  },
  {
   "cell_type": "code",
   "execution_count": null,
   "id": "3a849d36",
   "metadata": {},
   "outputs": [],
   "source": []
  },
  {
   "cell_type": "code",
   "execution_count": null,
   "id": "946923b9",
   "metadata": {},
   "outputs": [],
   "source": [
    "# Q38. What are built-in data types in Python?"
   ]
  },
  {
   "cell_type": "code",
   "execution_count": null,
   "id": "7e10cbf9",
   "metadata": {},
   "outputs": [],
   "source": [
    "# 1.int,float,string,list,tuple,set,dict"
   ]
  },
  {
   "cell_type": "code",
   "execution_count": null,
   "id": "38838379",
   "metadata": {},
   "outputs": [],
   "source": []
  },
  {
   "cell_type": "code",
   "execution_count": null,
   "id": "c098faf3",
   "metadata": {},
   "outputs": [],
   "source": [
    "def d():\n",
    "    \"\"\" this is simple function\"\"\"\n",
    "    pass\n",
    "    \n",
    "    "
   ]
  },
  {
   "cell_type": "code",
   "execution_count": null,
   "id": "af1e0525",
   "metadata": {},
   "outputs": [],
   "source": [
    "d.__doc__"
   ]
  },
  {
   "cell_type": "code",
   "execution_count": null,
   "id": "20f4358e",
   "metadata": {},
   "outputs": [],
   "source": []
  },
  {
   "cell_type": "code",
   "execution_count": null,
   "id": "4b4976b9",
   "metadata": {},
   "outputs": [],
   "source": [
    "def x(**kwargs):\n",
    "    for key,arg in kwargs.items():\n",
    "        print(key,arg)\n",
    "    \n",
    "        "
   ]
  },
  {
   "cell_type": "code",
   "execution_count": null,
   "id": "054d76ae",
   "metadata": {},
   "outputs": [],
   "source": [
    "x(name=\"shan\",a=\"b\")"
   ]
  },
  {
   "cell_type": "code",
   "execution_count": null,
   "id": "62e58d5c",
   "metadata": {},
   "outputs": [],
   "source": []
  },
  {
   "cell_type": "code",
   "execution_count": null,
   "id": "07828c3c",
   "metadata": {},
   "outputs": [],
   "source": [
    "# Q49. How can we iterate through multiple lists at the same time?\n",
    "# zip useful when we need to run multiple iterables at same time"
   ]
  },
  {
   "cell_type": "code",
   "execution_count": null,
   "id": "4ddee067",
   "metadata": {},
   "outputs": [],
   "source": [
    "l1=[1,2,3,4,5]\n",
    "l2=(1,4,9,16,29)"
   ]
  },
  {
   "cell_type": "code",
   "execution_count": null,
   "id": "95d382fa",
   "metadata": {},
   "outputs": [],
   "source": [
    "dict(zip(l1,l2))\n",
    "  "
   ]
  },
  {
   "cell_type": "code",
   "execution_count": null,
   "id": "63654fe9",
   "metadata": {},
   "outputs": [],
   "source": [
    "# Q50. What are the various ways of adding elements to a list?"
   ]
  },
  {
   "cell_type": "code",
   "execution_count": null,
   "id": "7ffd3b95",
   "metadata": {},
   "outputs": [],
   "source": [
    "#append,extend,insert at specific index"
   ]
  },
  {
   "cell_type": "code",
   "execution_count": null,
   "id": "e221e9d4",
   "metadata": {},
   "outputs": [],
   "source": []
  },
  {
   "cell_type": "code",
   "execution_count": null,
   "id": "2667e65e",
   "metadata": {},
   "outputs": [],
   "source": [
    "#prime number checking"
   ]
  },
  {
   "cell_type": "code",
   "execution_count": null,
   "id": "aad436d2",
   "metadata": {},
   "outputs": [],
   "source": [
    "n=49"
   ]
  },
  {
   "cell_type": "code",
   "execution_count": null,
   "id": "0c814de4",
   "metadata": {},
   "outputs": [],
   "source": [
    "from math import sqrt\n",
    "def prime(x):\n",
    "    if x<2:\n",
    "        return False\n",
    "    for i in range(2,int(sqrt(x))+1):\n",
    "        if x%i==0:\n",
    "            return False\n",
    "    return True\n",
    "        \n",
    "    "
   ]
  },
  {
   "cell_type": "code",
   "execution_count": null,
   "id": "fd215ad7",
   "metadata": {},
   "outputs": [],
   "source": [
    "prime(3)"
   ]
  },
  {
   "cell_type": "code",
   "execution_count": null,
   "id": "45480477",
   "metadata": {},
   "outputs": [],
   "source": []
  },
  {
   "cell_type": "code",
   "execution_count": null,
   "id": "22e8fa7f",
   "metadata": {},
   "outputs": [],
   "source": [
    "# Q53. What are the ways to swap the values of two elements?"
   ]
  },
  {
   "cell_type": "code",
   "execution_count": null,
   "id": "8351b400",
   "metadata": {},
   "outputs": [],
   "source": [
    "a=1\n",
    "b=2"
   ]
  },
  {
   "cell_type": "code",
   "execution_count": null,
   "id": "3e4f1a23",
   "metadata": {},
   "outputs": [],
   "source": [
    "c=a\n",
    "c"
   ]
  },
  {
   "cell_type": "code",
   "execution_count": null,
   "id": "9dbccbef",
   "metadata": {},
   "outputs": [],
   "source": [
    "a=b\n",
    "a"
   ]
  },
  {
   "cell_type": "code",
   "execution_count": null,
   "id": "d431a7da",
   "metadata": {},
   "outputs": [],
   "source": [
    "b=c\n",
    "b"
   ]
  },
  {
   "cell_type": "code",
   "execution_count": null,
   "id": "08312553",
   "metadata": {},
   "outputs": [],
   "source": [
    "a,b=b,a\n",
    "a,b"
   ]
  },
  {
   "cell_type": "code",
   "execution_count": null,
   "id": "79c10df8",
   "metadata": {},
   "outputs": [],
   "source": []
  },
  {
   "cell_type": "code",
   "execution_count": null,
   "id": "3ed1c6cc",
   "metadata": {},
   "outputs": [],
   "source": [
    "n=5"
   ]
  },
  {
   "cell_type": "code",
   "execution_count": null,
   "id": "8ea344c8",
   "metadata": {},
   "outputs": [],
   "source": [
    "# find factorial of n using recusrive"
   ]
  },
  {
   "cell_type": "code",
   "execution_count": null,
   "id": "e338dc94",
   "metadata": {},
   "outputs": [],
   "source": [
    "def fact(n):\n",
    "    if n==1:\n",
    "        return n\n",
    "    else:\n",
    "        return n*fact(n-1)"
   ]
  },
  {
   "cell_type": "code",
   "execution_count": null,
   "id": "4caa77f3",
   "metadata": {},
   "outputs": [],
   "source": [
    "fact(n)"
   ]
  },
  {
   "cell_type": "code",
   "execution_count": null,
   "id": "457d2c53",
   "metadata": {},
   "outputs": [],
   "source": [
    "import math\n",
    "math.factorial(6)"
   ]
  },
  {
   "cell_type": "code",
   "execution_count": null,
   "id": "7658144e",
   "metadata": {},
   "outputs": [],
   "source": []
  },
  {
   "cell_type": "code",
   "execution_count": null,
   "id": "f029acf1",
   "metadata": {},
   "outputs": [],
   "source": []
  },
  {
   "cell_type": "code",
   "execution_count": null,
   "id": "3af5ba1b",
   "metadata": {},
   "outputs": [],
   "source": [
    "# Q56. How do you find the minimum value in a list with a lambda function?"
   ]
  },
  {
   "cell_type": "code",
   "execution_count": null,
   "id": "0039e81e",
   "metadata": {},
   "outputs": [],
   "source": [
    "d=[1,2,3,4,5]\n",
    "mins=d[1]"
   ]
  },
  {
   "cell_type": "code",
   "execution_count": null,
   "id": "4eec79a4",
   "metadata": {},
   "outputs": [],
   "source": [
    "for i in d:\n",
    "    print(i)\n",
    "    if i <mins:\n",
    "        mins=i\n",
    "        \n",
    "            \n",
    "            \n",
    "            "
   ]
  },
  {
   "cell_type": "code",
   "execution_count": null,
   "id": "9684ca9d",
   "metadata": {},
   "outputs": [],
   "source": [
    "mins"
   ]
  },
  {
   "cell_type": "code",
   "execution_count": null,
   "id": "a9d9b994",
   "metadata": {},
   "outputs": [],
   "source": [
    "# sort within border without any inbuild function"
   ]
  },
  {
   "cell_type": "code",
   "execution_count": null,
   "id": "4d547433",
   "metadata": {},
   "outputs": [],
   "source": [
    "# find max number without any inbuilt function"
   ]
  },
  {
   "cell_type": "code",
   "execution_count": null,
   "id": "e594e0aa",
   "metadata": {},
   "outputs": [],
   "source": [
    "maxs=d[1]"
   ]
  },
  {
   "cell_type": "code",
   "execution_count": null,
   "id": "775dc72a",
   "metadata": {},
   "outputs": [],
   "source": [
    "for i in d:\n",
    "    print(i)\n",
    "    if i >maxs:\n",
    "        maxs=i"
   ]
  },
  {
   "cell_type": "code",
   "execution_count": null,
   "id": "2c0399ea",
   "metadata": {},
   "outputs": [],
   "source": [
    "maxs"
   ]
  },
  {
   "cell_type": "code",
   "execution_count": null,
   "id": "5ba4ae1b",
   "metadata": {},
   "outputs": [],
   "source": [
    "\n"
   ]
  },
  {
   "cell_type": "code",
   "execution_count": null,
   "id": "65c31eb6",
   "metadata": {},
   "outputs": [],
   "source": [
    "s=[10,1,3,6,11,12]"
   ]
  },
  {
   "cell_type": "code",
   "execution_count": null,
   "id": "4d938931",
   "metadata": {},
   "outputs": [],
   "source": [
    "for i in range(len(s)):\n",
    "    for j in range(i+1,len(s)):\n",
    "        if s[i] > s[j]:\n",
    "            s[i],s[j]=s[j],s[i]\n",
    "#         print(s[i],s[j])"
   ]
  },
  {
   "cell_type": "code",
   "execution_count": null,
   "id": "0b93d569",
   "metadata": {},
   "outputs": [],
   "source": [
    "s"
   ]
  },
  {
   "cell_type": "code",
   "execution_count": null,
   "id": "c8f5340e",
   "metadata": {},
   "outputs": [],
   "source": []
  },
  {
   "cell_type": "code",
   "execution_count": null,
   "id": "efee0640",
   "metadata": {},
   "outputs": [],
   "source": [
    "s=[\"a\",\"e\",\"f\",\"b\"]"
   ]
  },
  {
   "cell_type": "code",
   "execution_count": null,
   "id": "242c4535",
   "metadata": {},
   "outputs": [],
   "source": [
    "l={1:\"a\",2:\"b\",3:\"c\",4:\"d\",5:\"e\",6:\"f\"}"
   ]
  },
  {
   "cell_type": "code",
   "execution_count": null,
   "id": "3c20250b",
   "metadata": {},
   "outputs": [],
   "source": [
    "a=[]"
   ]
  },
  {
   "cell_type": "code",
   "execution_count": null,
   "id": "d43d7d20",
   "metadata": {},
   "outputs": [],
   "source": [
    "for k,v in l.items():\n",
    "#     print(k,v)\n",
    "    for i in s:\n",
    "        if v==i:\n",
    "            a.append(v)"
   ]
  },
  {
   "cell_type": "code",
   "execution_count": null,
   "id": "e72856a6",
   "metadata": {},
   "outputs": [],
   "source": [
    "a"
   ]
  },
  {
   "cell_type": "code",
   "execution_count": null,
   "id": "9cc9c470",
   "metadata": {},
   "outputs": [],
   "source": [
    "x=[1,\"a\",2,\"b\"]\n",
    "# res =[1,2,\"a\",\"b\"]"
   ]
  },
  {
   "cell_type": "code",
   "execution_count": null,
   "id": "825a3ee9",
   "metadata": {},
   "outputs": [],
   "source": [
    "x.sort()"
   ]
  },
  {
   "cell_type": "code",
   "execution_count": null,
   "id": "4c5f85ed",
   "metadata": {},
   "outputs": [],
   "source": [
    "a"
   ]
  },
  {
   "cell_type": "code",
   "execution_count": null,
   "id": "60c24a35",
   "metadata": {},
   "outputs": [],
   "source": []
  },
  {
   "cell_type": "code",
   "execution_count": null,
   "id": "ffb2cbba",
   "metadata": {},
   "outputs": [],
   "source": [
    "sen=[1,\"a\",4,\"b\"]\n",
    "num=[]\n",
    "alph=[]"
   ]
  },
  {
   "cell_type": "code",
   "execution_count": null,
   "id": "c8b7f118",
   "metadata": {},
   "outputs": [],
   "source": [
    "for i in sen:\n",
    "    if str(i).isnumeric():\n",
    "        num.append(i)\n",
    "    else:\n",
    "        alph.append(i)"
   ]
  },
  {
   "cell_type": "code",
   "execution_count": null,
   "id": "344c9794",
   "metadata": {},
   "outputs": [],
   "source": [
    "num+alph"
   ]
  },
  {
   "cell_type": "code",
   "execution_count": null,
   "id": "4a67e725",
   "metadata": {},
   "outputs": [],
   "source": []
  },
  {
   "cell_type": "code",
   "execution_count": null,
   "id": "e144d25b",
   "metadata": {},
   "outputs": [],
   "source": [
    "# Q58. Write a code to select only odd numbers using list comprehension."
   ]
  },
  {
   "cell_type": "code",
   "execution_count": null,
   "id": "9b4d9f86",
   "metadata": {},
   "outputs": [],
   "source": [
    "li=[1,2,3,4,5,6,7]\n"
   ]
  },
  {
   "cell_type": "code",
   "execution_count": null,
   "id": "9dfdce5a",
   "metadata": {},
   "outputs": [],
   "source": [
    "[i for i in li if i%2!=0]"
   ]
  },
  {
   "cell_type": "code",
   "execution_count": null,
   "id": "005b406b",
   "metadata": {},
   "outputs": [],
   "source": []
  },
  {
   "cell_type": "code",
   "execution_count": null,
   "id": "1af419ed",
   "metadata": {},
   "outputs": [],
   "source": []
  },
  {
   "cell_type": "code",
   "execution_count": null,
   "id": "3225f650",
   "metadata": {},
   "outputs": [],
   "source": [
    "dictionary = {'a': 10, 'b': 5, 'c': 20, 'd': 3}\n",
    "min(dictionary.values())"
   ]
  },
  {
   "cell_type": "code",
   "execution_count": null,
   "id": "a28b44fa",
   "metadata": {},
   "outputs": [],
   "source": []
  },
  {
   "cell_type": "code",
   "execution_count": null,
   "id": "d6484d32",
   "metadata": {},
   "outputs": [],
   "source": []
  },
  {
   "cell_type": "code",
   "execution_count": 1,
   "id": "03d26ca4",
   "metadata": {},
   "outputs": [
    {
     "name": "stdout",
     "output_type": "stream",
     "text": [
      "Minimum value: 3\n"
     ]
    }
   ],
   "source": [
    "# Example dictionary\n",
    "my_dict = {'a': 10, 'b': 5, 'c': 20, 'd': 3}\n",
    "\n",
    "# Get the minimum value\n",
    "min_value = min(my_dict.values())bb\n",
    "print(\"Minimum value:\", min_value)\n"
   ]
  },
  {
   "cell_type": "code",
   "execution_count": 2,
   "id": "5c4f2627",
   "metadata": {},
   "outputs": [],
   "source": [
    "j=[10,5,20,3]\n",
    "k=j[1]\n",
    "for i in j:\n",
    "    if i <k:\n",
    "        k=i"
   ]
  },
  {
   "cell_type": "code",
   "execution_count": 4,
   "id": "3ad18dc3",
   "metadata": {},
   "outputs": [],
   "source": [
    "# kQ60. Write a code to get the minimum value in a dictionary."
   ]
  },
  {
   "cell_type": "code",
   "execution_count": null,
   "id": "db76723b",
   "metadata": {},
   "outputs": [],
   "source": []
  }
 ],
 "metadata": {
  "kernelspec": {
   "display_name": "Python 3 (ipykernel)",
   "language": "python",
   "name": "python3"
  },
  "language_info": {
   "codemirror_mode": {
    "name": "ipython",
    "version": 3
   },
   "file_extension": ".py",
   "mimetype": "text/x-python",
   "name": "python",
   "nbconvert_exporter": "python",
   "pygments_lexer": "ipython3",
   "version": "3.11.4"
  }
 },
 "nbformat": 4,
 "nbformat_minor": 5
}
