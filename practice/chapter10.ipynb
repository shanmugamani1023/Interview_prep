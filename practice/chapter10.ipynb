{
 "cells": [
  {
   "cell_type": "code",
   "execution_count": 1,
   "id": "de56b06d",
   "metadata": {},
   "outputs": [],
   "source": [
    "def dec(func):\n",
    "    def wrapper():\n",
    "        print(\"Hello\")\n",
    "        func()\n",
    "        print(\"how are you?\")\n",
    "    return wrapper\n",
    "    "
   ]
  },
  {
   "cell_type": "code",
   "execution_count": 2,
   "id": "984df51c",
   "metadata": {},
   "outputs": [],
   "source": [
    "@dec\n",
    "def c():\n",
    "    print(\"shan\")"
   ]
  },
  {
   "cell_type": "code",
   "execution_count": 3,
   "id": "99d1e733",
   "metadata": {},
   "outputs": [
    {
     "name": "stdout",
     "output_type": "stream",
     "text": [
      "Hello\n",
      "shan\n",
      "how are you?\n"
     ]
    }
   ],
   "source": [
    "c()"
   ]
  },
  {
   "cell_type": "code",
   "execution_count": null,
   "id": "63c0b9f4",
   "metadata": {},
   "outputs": [],
   "source": []
  },
  {
   "cell_type": "code",
   "execution_count": 4,
   "id": "41132a9c",
   "metadata": {},
   "outputs": [],
   "source": [
    "l=[1,2,3,4,5]"
   ]
  },
  {
   "cell_type": "code",
   "execution_count": 7,
   "id": "842838d2",
   "metadata": {},
   "outputs": [
    {
     "data": {
      "text/plain": [
       "[1, 4, 9, 16, 25]"
      ]
     },
     "execution_count": 7,
     "metadata": {},
     "output_type": "execute_result"
    }
   ],
   "source": [
    "x=[i**2 for i in l]\n",
    "x"
   ]
  },
  {
   "cell_type": "code",
   "execution_count": 8,
   "id": "5e203f56",
   "metadata": {},
   "outputs": [],
   "source": [
    "y={i:i**2 for i in l}"
   ]
  },
  {
   "cell_type": "code",
   "execution_count": 9,
   "id": "6d93a17c",
   "metadata": {},
   "outputs": [
    {
     "data": {
      "text/plain": [
       "{1: 1, 2: 4, 3: 9, 4: 16, 5: 25}"
      ]
     },
     "execution_count": 9,
     "metadata": {},
     "output_type": "execute_result"
    }
   ],
   "source": [
    "y"
   ]
  },
  {
   "cell_type": "code",
   "execution_count": null,
   "id": "34a0222c",
   "metadata": {},
   "outputs": [],
   "source": []
  },
  {
   "cell_type": "code",
   "execution_count": 10,
   "id": "1c90f18a",
   "metadata": {},
   "outputs": [
    {
     "ename": "SyntaxError",
     "evalue": "invalid syntax (3389237321.py, line 1)",
     "output_type": "error",
     "traceback": [
      "\u001b[1;36m  Cell \u001b[1;32mIn[10], line 1\u001b[1;36m\u001b[0m\n\u001b[1;33m    byte code -.pyc\u001b[0m\n\u001b[1;37m         ^\u001b[0m\n\u001b[1;31mSyntaxError\u001b[0m\u001b[1;31m:\u001b[0m invalid syntax\n"
     ]
    }
   ],
   "source": [
    "# byte code -.pyc"
   ]
  },
  {
   "cell_type": "code",
   "execution_count": null,
   "id": "cc1753e6",
   "metadata": {},
   "outputs": [],
   "source": []
  },
  {
   "cell_type": "code",
   "execution_count": 12,
   "id": "c324aac9",
   "metadata": {},
   "outputs": [
    {
     "data": {
      "text/plain": [
       "[1, 4]"
      ]
     },
     "execution_count": 12,
     "metadata": {},
     "output_type": "execute_result"
    }
   ],
   "source": [
    "x[0:2]"
   ]
  },
  {
   "cell_type": "code",
   "execution_count": 13,
   "id": "0df8de9d",
   "metadata": {},
   "outputs": [],
   "source": [
    "import math"
   ]
  },
  {
   "cell_type": "code",
   "execution_count": null,
   "id": "4c5d01ad",
   "metadata": {},
   "outputs": [],
   "source": []
  },
  {
   "cell_type": "code",
   "execution_count": 21,
   "id": "a18ffa15",
   "metadata": {},
   "outputs": [
    {
     "data": {
      "text/plain": [
       "nan"
      ]
     },
     "execution_count": 21,
     "metadata": {},
     "output_type": "execute_result"
    }
   ],
   "source": [
    "i=float(\"nan\")\n",
    "i"
   ]
  },
  {
   "cell_type": "code",
   "execution_count": 22,
   "id": "2519bd96",
   "metadata": {},
   "outputs": [
    {
     "data": {
      "text/plain": [
       "True"
      ]
     },
     "execution_count": 22,
     "metadata": {},
     "output_type": "execute_result"
    }
   ],
   "source": [
    "math.isnan(i)"
   ]
  },
  {
   "cell_type": "code",
   "execution_count": 24,
   "id": "93becf3d",
   "metadata": {},
   "outputs": [
    {
     "data": {
      "text/plain": [
       "{'a': [1, 2, 3, 4, 5], 'b': [1, 2, 3, 4, 5]}"
      ]
     },
     "execution_count": 24,
     "metadata": {},
     "output_type": "execute_result"
    }
   ],
   "source": [
    "\n",
    "a={\"a\":[1,2,3,4,5],\"b\":[1,2,3,4,5]}\n",
    "a"
   ]
  },
  {
   "cell_type": "code",
   "execution_count": 25,
   "id": "b3a89322",
   "metadata": {},
   "outputs": [],
   "source": [
    "import pandas as pd"
   ]
  },
  {
   "cell_type": "code",
   "execution_count": 28,
   "id": "539f99c9",
   "metadata": {},
   "outputs": [],
   "source": [
    "df1=pd.DataFrame(a)"
   ]
  },
  {
   "cell_type": "code",
   "execution_count": 29,
   "id": "6bb68106",
   "metadata": {},
   "outputs": [],
   "source": [
    "b={\"c\":[1,2,3,4,5],\"d\":[1,2,3,4,5]}"
   ]
  },
  {
   "cell_type": "code",
   "execution_count": 30,
   "id": "135bb241",
   "metadata": {},
   "outputs": [],
   "source": [
    "df2=pd.DataFrame(b)"
   ]
  },
  {
   "cell_type": "code",
   "execution_count": 32,
   "id": "10119cd7",
   "metadata": {},
   "outputs": [
    {
     "data": {
      "text/html": [
       "<div>\n",
       "<style scoped>\n",
       "    .dataframe tbody tr th:only-of-type {\n",
       "        vertical-align: middle;\n",
       "    }\n",
       "\n",
       "    .dataframe tbody tr th {\n",
       "        vertical-align: top;\n",
       "    }\n",
       "\n",
       "    .dataframe thead th {\n",
       "        text-align: right;\n",
       "    }\n",
       "</style>\n",
       "<table border=\"1\" class=\"dataframe\">\n",
       "  <thead>\n",
       "    <tr style=\"text-align: right;\">\n",
       "      <th></th>\n",
       "      <th>a</th>\n",
       "      <th>b</th>\n",
       "    </tr>\n",
       "  </thead>\n",
       "  <tbody>\n",
       "    <tr>\n",
       "      <th>0</th>\n",
       "      <td>1</td>\n",
       "      <td>1</td>\n",
       "    </tr>\n",
       "    <tr>\n",
       "      <th>1</th>\n",
       "      <td>2</td>\n",
       "      <td>2</td>\n",
       "    </tr>\n",
       "    <tr>\n",
       "      <th>2</th>\n",
       "      <td>3</td>\n",
       "      <td>3</td>\n",
       "    </tr>\n",
       "    <tr>\n",
       "      <th>3</th>\n",
       "      <td>4</td>\n",
       "      <td>4</td>\n",
       "    </tr>\n",
       "    <tr>\n",
       "      <th>4</th>\n",
       "      <td>5</td>\n",
       "      <td>5</td>\n",
       "    </tr>\n",
       "  </tbody>\n",
       "</table>\n",
       "</div>"
      ],
      "text/plain": [
       "   a  b\n",
       "0  1  1\n",
       "1  2  2\n",
       "2  3  3\n",
       "3  4  4\n",
       "4  5  5"
      ]
     },
     "execution_count": 32,
     "metadata": {},
     "output_type": "execute_result"
    }
   ],
   "source": [
    "df1"
   ]
  },
  {
   "cell_type": "code",
   "execution_count": 33,
   "id": "752c8df1",
   "metadata": {},
   "outputs": [
    {
     "data": {
      "text/html": [
       "<div>\n",
       "<style scoped>\n",
       "    .dataframe tbody tr th:only-of-type {\n",
       "        vertical-align: middle;\n",
       "    }\n",
       "\n",
       "    .dataframe tbody tr th {\n",
       "        vertical-align: top;\n",
       "    }\n",
       "\n",
       "    .dataframe thead th {\n",
       "        text-align: right;\n",
       "    }\n",
       "</style>\n",
       "<table border=\"1\" class=\"dataframe\">\n",
       "  <thead>\n",
       "    <tr style=\"text-align: right;\">\n",
       "      <th></th>\n",
       "      <th>c</th>\n",
       "      <th>d</th>\n",
       "    </tr>\n",
       "  </thead>\n",
       "  <tbody>\n",
       "    <tr>\n",
       "      <th>0</th>\n",
       "      <td>1</td>\n",
       "      <td>1</td>\n",
       "    </tr>\n",
       "    <tr>\n",
       "      <th>1</th>\n",
       "      <td>2</td>\n",
       "      <td>2</td>\n",
       "    </tr>\n",
       "    <tr>\n",
       "      <th>2</th>\n",
       "      <td>3</td>\n",
       "      <td>3</td>\n",
       "    </tr>\n",
       "    <tr>\n",
       "      <th>3</th>\n",
       "      <td>4</td>\n",
       "      <td>4</td>\n",
       "    </tr>\n",
       "    <tr>\n",
       "      <th>4</th>\n",
       "      <td>5</td>\n",
       "      <td>5</td>\n",
       "    </tr>\n",
       "  </tbody>\n",
       "</table>\n",
       "</div>"
      ],
      "text/plain": [
       "   c  d\n",
       "0  1  1\n",
       "1  2  2\n",
       "2  3  3\n",
       "3  4  4\n",
       "4  5  5"
      ]
     },
     "execution_count": 33,
     "metadata": {},
     "output_type": "execute_result"
    }
   ],
   "source": [
    "df2"
   ]
  },
  {
   "cell_type": "code",
   "execution_count": 43,
   "id": "f99bd447",
   "metadata": {},
   "outputs": [
    {
     "data": {
      "text/html": [
       "<div>\n",
       "<style scoped>\n",
       "    .dataframe tbody tr th:only-of-type {\n",
       "        vertical-align: middle;\n",
       "    }\n",
       "\n",
       "    .dataframe tbody tr th {\n",
       "        vertical-align: top;\n",
       "    }\n",
       "\n",
       "    .dataframe thead th {\n",
       "        text-align: right;\n",
       "    }\n",
       "</style>\n",
       "<table border=\"1\" class=\"dataframe\">\n",
       "  <thead>\n",
       "    <tr style=\"text-align: right;\">\n",
       "      <th></th>\n",
       "      <th>a</th>\n",
       "      <th>b</th>\n",
       "      <th>c</th>\n",
       "      <th>d</th>\n",
       "    </tr>\n",
       "  </thead>\n",
       "  <tbody>\n",
       "    <tr>\n",
       "      <th>0</th>\n",
       "      <td>1</td>\n",
       "      <td>1</td>\n",
       "      <td>1</td>\n",
       "      <td>1</td>\n",
       "    </tr>\n",
       "    <tr>\n",
       "      <th>1</th>\n",
       "      <td>2</td>\n",
       "      <td>2</td>\n",
       "      <td>2</td>\n",
       "      <td>2</td>\n",
       "    </tr>\n",
       "    <tr>\n",
       "      <th>2</th>\n",
       "      <td>3</td>\n",
       "      <td>3</td>\n",
       "      <td>3</td>\n",
       "      <td>3</td>\n",
       "    </tr>\n",
       "    <tr>\n",
       "      <th>3</th>\n",
       "      <td>4</td>\n",
       "      <td>4</td>\n",
       "      <td>4</td>\n",
       "      <td>4</td>\n",
       "    </tr>\n",
       "    <tr>\n",
       "      <th>4</th>\n",
       "      <td>5</td>\n",
       "      <td>5</td>\n",
       "      <td>5</td>\n",
       "      <td>5</td>\n",
       "    </tr>\n",
       "  </tbody>\n",
       "</table>\n",
       "</div>"
      ],
      "text/plain": [
       "   a  b  c  d\n",
       "0  1  1  1  1\n",
       "1  2  2  2  2\n",
       "2  3  3  3  3\n",
       "3  4  4  4  4\n",
       "4  5  5  5  5"
      ]
     },
     "execution_count": 43,
     "metadata": {},
     "output_type": "execute_result"
    }
   ],
   "source": [
    "pd.concat([df1,df2],axis=1)"
   ]
  },
  {
   "cell_type": "code",
   "execution_count": null,
   "id": "b345bd92",
   "metadata": {},
   "outputs": [],
   "source": []
  },
  {
   "cell_type": "code",
   "execution_count": 44,
   "id": "afbcad54",
   "metadata": {},
   "outputs": [],
   "source": [
    "# Q20. What are python modules? Name some commonly used built-in modules in Python"
   ]
  },
  {
   "cell_type": "code",
   "execution_count": 45,
   "id": "6ff61a88",
   "metadata": {},
   "outputs": [],
   "source": [
    "# 1.datetime\n",
    "# 2.os\n",
    "# 3.math\n",
    "# 4.json"
   ]
  },
  {
   "cell_type": "code",
   "execution_count": 47,
   "id": "a0793f4f",
   "metadata": {},
   "outputs": [
    {
     "data": {
      "text/plain": [
       "str"
      ]
     },
     "execution_count": 47,
     "metadata": {},
     "output_type": "execute_result"
    }
   ],
   "source": [
    "a=\"1\"\n",
    "type(a)"
   ]
  },
  {
   "cell_type": "code",
   "execution_count": 49,
   "id": "7b450ce0",
   "metadata": {},
   "outputs": [
    {
     "data": {
      "text/plain": [
       "int"
      ]
     },
     "execution_count": 49,
     "metadata": {},
     "output_type": "execute_result"
    }
   ],
   "source": [
    "type(int(a))"
   ]
  },
  {
   "cell_type": "code",
   "execution_count": 50,
   "id": "e3a01ed5",
   "metadata": {},
   "outputs": [],
   "source": [
    "import numpy as np"
   ]
  },
  {
   "cell_type": "code",
   "execution_count": 56,
   "id": "b8aa5dfc",
   "metadata": {},
   "outputs": [
    {
     "data": {
      "text/plain": [
       "array(['1', '1', '3', '4', '5'], dtype='<U11')"
      ]
     },
     "execution_count": 56,
     "metadata": {},
     "output_type": "execute_result"
    }
   ],
   "source": [
    "a=np.array([1,\"1\",3,4,5])\n",
    "b=np.array([1,2,3,4,5])\n",
    "a"
   ]
  },
  {
   "cell_type": "code",
   "execution_count": null,
   "id": "146b1d51",
   "metadata": {},
   "outputs": [],
   "source": []
  },
  {
   "cell_type": "code",
   "execution_count": 62,
   "id": "b7b28b8e",
   "metadata": {},
   "outputs": [],
   "source": [
    "x=lambda x:x+2"
   ]
  },
  {
   "cell_type": "code",
   "execution_count": 63,
   "id": "e994ca58",
   "metadata": {},
   "outputs": [
    {
     "data": {
      "text/plain": [
       "4"
      ]
     },
     "execution_count": 63,
     "metadata": {},
     "output_type": "execute_result"
    }
   ],
   "source": [
    "x(2)"
   ]
  },
  {
   "cell_type": "code",
   "execution_count": 64,
   "id": "45d0d3a6",
   "metadata": {},
   "outputs": [],
   "source": [
    "# Q31. How does break, continue and pass work?"
   ]
  },
  {
   "cell_type": "code",
   "execution_count": 65,
   "id": "7eb40c71",
   "metadata": {},
   "outputs": [],
   "source": [
    "# Q32. What does [::-1} do?"
   ]
  },
  {
   "cell_type": "code",
   "execution_count": 66,
   "id": "01cb4171",
   "metadata": {},
   "outputs": [
    {
     "data": {
      "text/plain": [
       "'nahs'"
      ]
     },
     "execution_count": 66,
     "metadata": {},
     "output_type": "execute_result"
    }
   ],
   "source": [
    "s=\"shan\"\n",
    "s[::-1]"
   ]
  },
  {
   "cell_type": "code",
   "execution_count": 67,
   "id": "033a5f55",
   "metadata": {},
   "outputs": [
    {
     "data": {
      "text/plain": [
       "[5, 4, 3, 2, 1]"
      ]
     },
     "execution_count": 67,
     "metadata": {},
     "output_type": "execute_result"
    }
   ],
   "source": [
    "s=[1,2,3,4,5]\n",
    "s[::-1]"
   ]
  },
  {
   "cell_type": "code",
   "execution_count": null,
   "id": "875c17ee",
   "metadata": {},
   "outputs": [],
   "source": []
  },
  {
   "cell_type": "code",
   "execution_count": 68,
   "id": "d98b4921",
   "metadata": {},
   "outputs": [],
   "source": [
    "# Q33. How can you randomize the items of a list in place in Python?"
   ]
  },
  {
   "cell_type": "code",
   "execution_count": 69,
   "id": "89ae60e5",
   "metadata": {},
   "outputs": [],
   "source": [
    "from random import shuffle"
   ]
  },
  {
   "cell_type": "code",
   "execution_count": 70,
   "id": "1fc2f01c",
   "metadata": {},
   "outputs": [],
   "source": [
    "x=[1,2,3,4,5]"
   ]
  },
  {
   "cell_type": "code",
   "execution_count": 84,
   "id": "43113673",
   "metadata": {},
   "outputs": [
    {
     "data": {
      "text/plain": [
       "[3, 5, 2, 4, 1]"
      ]
     },
     "execution_count": 84,
     "metadata": {},
     "output_type": "execute_result"
    }
   ],
   "source": [
    "shuffle(x)\n",
    "x"
   ]
  },
  {
   "cell_type": "code",
   "execution_count": null,
   "id": "7cf49134",
   "metadata": {},
   "outputs": [],
   "source": []
  },
  {
   "cell_type": "code",
   "execution_count": 85,
   "id": "acc8798c",
   "metadata": {},
   "outputs": [],
   "source": [
    "# Q35. How can you generate random numbers in Python?"
   ]
  },
  {
   "cell_type": "code",
   "execution_count": 98,
   "id": "14e3d21f",
   "metadata": {},
   "outputs": [
    {
     "data": {
      "text/plain": [
       "array([[0.73600896, 0.91216095, 0.60832879, 0.69428973, 0.88441674,\n",
       "        0.12910358, 0.74032296, 0.09018808, 0.44298145, 0.16089505]])"
      ]
     },
     "execution_count": 98,
     "metadata": {},
     "output_type": "execute_result"
    }
   ],
   "source": [
    "np.random.rand(1,10)"
   ]
  },
  {
   "cell_type": "code",
   "execution_count": null,
   "id": "b3b0684c",
   "metadata": {},
   "outputs": [],
   "source": []
  },
  {
   "cell_type": "code",
   "execution_count": null,
   "id": "fc1f4315",
   "metadata": {},
   "outputs": [],
   "source": [
    "#\n"
   ]
  },
  {
   "cell_type": "code",
   "execution_count": 100,
   "id": "e9f803e2",
   "metadata": {},
   "outputs": [],
   "source": [
    "# Q39. What are the generators in python?"
   ]
  },
  {
   "cell_type": "code",
   "execution_count": 101,
   "id": "76d82f1d",
   "metadata": {},
   "outputs": [],
   "source": [
    "def x(i):\n",
    "    for i in range(i):\n",
    "        yield(i)"
   ]
  },
  {
   "cell_type": "code",
   "execution_count": 102,
   "id": "6fc12ddc",
   "metadata": {},
   "outputs": [],
   "source": [
    "d=x(6)"
   ]
  },
  {
   "cell_type": "code",
   "execution_count": 110,
   "id": "12363189",
   "metadata": {},
   "outputs": [
    {
     "ename": "StopIteration",
     "evalue": "",
     "output_type": "error",
     "traceback": [
      "\u001b[1;31m---------------------------------------------------------------------------\u001b[0m",
      "\u001b[1;31mStopIteration\u001b[0m                             Traceback (most recent call last)",
      "Cell \u001b[1;32mIn[110], line 1\u001b[0m\n\u001b[1;32m----> 1\u001b[0m \u001b[38;5;28mnext\u001b[39m(d)\n",
      "\u001b[1;31mStopIteration\u001b[0m: "
     ]
    }
   ],
   "source": [
    "next(d)"
   ]
  },
  {
   "cell_type": "code",
   "execution_count": 111,
   "id": "6336bbc0",
   "metadata": {},
   "outputs": [],
   "source": [
    "# Q40. How will you capitalize the first letter of string?"
   ]
  },
  {
   "cell_type": "code",
   "execution_count": 112,
   "id": "65675147",
   "metadata": {},
   "outputs": [],
   "source": [
    "s=\"shan\""
   ]
  },
  {
   "cell_type": "code",
   "execution_count": 114,
   "id": "c7336b11",
   "metadata": {},
   "outputs": [
    {
     "data": {
      "text/plain": [
       "'Shan'"
      ]
     },
     "execution_count": 114,
     "metadata": {},
     "output_type": "execute_result"
    }
   ],
   "source": [
    "s.capitalize()"
   ]
  },
  {
   "cell_type": "code",
   "execution_count": 117,
   "id": "e81de24b",
   "metadata": {},
   "outputs": [
    {
     "name": "stdout",
     "output_type": "stream",
     "text": [
      "2.0\n",
      "\n",
      "Using docstring as a comment.\n",
      "This code divides 2 numbers\n",
      "\n"
     ]
    }
   ],
   "source": [
    "\"\"\"\n",
    "Using docstring as a comment.\n",
    "This code divides 2 numbers\n",
    "\"\"\"\n",
    "x=8\n",
    "y=4\n",
    "z=x/y\n",
    "print(z)\n",
    "print(__doc__)"
   ]
  },
  {
   "cell_type": "code",
   "execution_count": 118,
   "id": "b7f37d31",
   "metadata": {},
   "outputs": [
    {
     "name": "stdout",
     "output_type": "stream",
     "text": [
      "\n",
      "Welcome to Python 3.11's help utility!\n",
      "\n",
      "If this is your first time using Python, you should definitely check out\n",
      "the tutorial on the internet at https://docs.python.org/3.11/tutorial/.\n",
      "\n",
      "Enter the name of any module, keyword, or topic to get help on writing\n",
      "Python programs and using Python modules.  To quit this help utility and\n",
      "return to the interpreter, just type \"quit\".\n",
      "\n",
      "To get a list of available modules, keywords, symbols, or topics, type\n",
      "\"modules\", \"keywords\", \"symbols\", or \"topics\".  Each module also comes\n",
      "with a one-line summary of what it does; to list the modules whose name\n",
      "or summary contain a given string such as \"spam\", type \"modules spam\".\n",
      "\n",
      "\n",
      "You are now leaving help and returning to the Python interpreter.\n",
      "If you want to ask for help on a particular object directly from the\n",
      "interpreter, you can type \"help(object)\".  Executing \"help('string')\"\n",
      "has the same effect as typing a particular string at the help> prompt.\n",
      "help> keywords\n"
     ]
    }
   ],
   "source": [
    "help()"
   ]
  },
  {
   "cell_type": "code",
   "execution_count": 119,
   "id": "b2b47cbf",
   "metadata": {},
   "outputs": [
    {
     "data": {
      "text/plain": [
       "['In',\n",
       " 'Out',\n",
       " '_',\n",
       " '_103',\n",
       " '_104',\n",
       " '_105',\n",
       " '_106',\n",
       " '_107',\n",
       " '_108',\n",
       " '_109',\n",
       " '_11',\n",
       " '_113',\n",
       " '_114',\n",
       " '_12',\n",
       " '_14',\n",
       " '_21',\n",
       " '_22',\n",
       " '_24',\n",
       " '_27',\n",
       " '_31',\n",
       " '_32',\n",
       " '_33',\n",
       " '_34',\n",
       " '_35',\n",
       " '_36',\n",
       " '_38',\n",
       " '_42',\n",
       " '_43',\n",
       " '_47',\n",
       " '_48',\n",
       " '_49',\n",
       " '_51',\n",
       " '_52',\n",
       " '_54',\n",
       " '_55',\n",
       " '_56',\n",
       " '_57',\n",
       " '_59',\n",
       " '_6',\n",
       " '_63',\n",
       " '_66',\n",
       " '_67',\n",
       " '_7',\n",
       " '_72',\n",
       " '_73',\n",
       " '_74',\n",
       " '_75',\n",
       " '_76',\n",
       " '_77',\n",
       " '_78',\n",
       " '_79',\n",
       " '_80',\n",
       " '_81',\n",
       " '_82',\n",
       " '_83',\n",
       " '_84',\n",
       " '_87',\n",
       " '_88',\n",
       " '_89',\n",
       " '_9',\n",
       " '_90',\n",
       " '_91',\n",
       " '_92',\n",
       " '_93',\n",
       " '_94',\n",
       " '_95',\n",
       " '_96',\n",
       " '_98',\n",
       " '_99',\n",
       " '__',\n",
       " '___',\n",
       " '__builtin__',\n",
       " '__builtins__',\n",
       " '__doc__',\n",
       " '__loader__',\n",
       " '__name__',\n",
       " '__package__',\n",
       " '__spec__',\n",
       " '_dh',\n",
       " '_i',\n",
       " '_i1',\n",
       " '_i10',\n",
       " '_i100',\n",
       " '_i101',\n",
       " '_i102',\n",
       " '_i103',\n",
       " '_i104',\n",
       " '_i105',\n",
       " '_i106',\n",
       " '_i107',\n",
       " '_i108',\n",
       " '_i109',\n",
       " '_i11',\n",
       " '_i110',\n",
       " '_i111',\n",
       " '_i112',\n",
       " '_i113',\n",
       " '_i114',\n",
       " '_i115',\n",
       " '_i116',\n",
       " '_i117',\n",
       " '_i118',\n",
       " '_i119',\n",
       " '_i12',\n",
       " '_i13',\n",
       " '_i14',\n",
       " '_i15',\n",
       " '_i16',\n",
       " '_i17',\n",
       " '_i18',\n",
       " '_i19',\n",
       " '_i2',\n",
       " '_i20',\n",
       " '_i21',\n",
       " '_i22',\n",
       " '_i23',\n",
       " '_i24',\n",
       " '_i25',\n",
       " '_i26',\n",
       " '_i27',\n",
       " '_i28',\n",
       " '_i29',\n",
       " '_i3',\n",
       " '_i30',\n",
       " '_i31',\n",
       " '_i32',\n",
       " '_i33',\n",
       " '_i34',\n",
       " '_i35',\n",
       " '_i36',\n",
       " '_i37',\n",
       " '_i38',\n",
       " '_i39',\n",
       " '_i4',\n",
       " '_i40',\n",
       " '_i41',\n",
       " '_i42',\n",
       " '_i43',\n",
       " '_i44',\n",
       " '_i45',\n",
       " '_i46',\n",
       " '_i47',\n",
       " '_i48',\n",
       " '_i49',\n",
       " '_i5',\n",
       " '_i50',\n",
       " '_i51',\n",
       " '_i52',\n",
       " '_i53',\n",
       " '_i54',\n",
       " '_i55',\n",
       " '_i56',\n",
       " '_i57',\n",
       " '_i58',\n",
       " '_i59',\n",
       " '_i6',\n",
       " '_i60',\n",
       " '_i61',\n",
       " '_i62',\n",
       " '_i63',\n",
       " '_i64',\n",
       " '_i65',\n",
       " '_i66',\n",
       " '_i67',\n",
       " '_i68',\n",
       " '_i69',\n",
       " '_i7',\n",
       " '_i70',\n",
       " '_i71',\n",
       " '_i72',\n",
       " '_i73',\n",
       " '_i74',\n",
       " '_i75',\n",
       " '_i76',\n",
       " '_i77',\n",
       " '_i78',\n",
       " '_i79',\n",
       " '_i8',\n",
       " '_i80',\n",
       " '_i81',\n",
       " '_i82',\n",
       " '_i83',\n",
       " '_i84',\n",
       " '_i85',\n",
       " '_i86',\n",
       " '_i87',\n",
       " '_i88',\n",
       " '_i89',\n",
       " '_i9',\n",
       " '_i90',\n",
       " '_i91',\n",
       " '_i92',\n",
       " '_i93',\n",
       " '_i94',\n",
       " '_i95',\n",
       " '_i96',\n",
       " '_i97',\n",
       " '_i98',\n",
       " '_i99',\n",
       " '_ih',\n",
       " '_ii',\n",
       " '_iii',\n",
       " '_oh',\n",
       " 'a',\n",
       " 'b',\n",
       " 'c',\n",
       " 'd',\n",
       " 'dec',\n",
       " 'df1',\n",
       " 'df2',\n",
       " 'exit',\n",
       " 'get_ipython',\n",
       " 'i',\n",
       " 'l',\n",
       " 'math',\n",
       " 'np',\n",
       " 'open',\n",
       " 'pd',\n",
       " 'quit',\n",
       " 's',\n",
       " 'shuffle',\n",
       " 'x',\n",
       " 'y',\n",
       " 'z']"
      ]
     },
     "execution_count": 119,
     "metadata": {},
     "output_type": "execute_result"
    }
   ],
   "source": [
    "dir()"
   ]
  },
  {
   "cell_type": "code",
   "execution_count": 120,
   "id": "f3b002ae",
   "metadata": {},
   "outputs": [
    {
     "data": {
      "text/plain": [
       "'np.random.randint(1,10,size=10)'"
      ]
     },
     "execution_count": 120,
     "metadata": {},
     "output_type": "execute_result"
    }
   ],
   "source": [
    "_i95"
   ]
  },
  {
   "cell_type": "code",
   "execution_count": 121,
   "id": "c536d08b",
   "metadata": {},
   "outputs": [
    {
     "data": {
      "text/plain": [
       "['',\n",
       " 'def dec(func):\\n    def wrapper():\\n        print(\"Hello\")\\n        func()\\n        print(\"how are you?\")\\n    return wrapper\\n    ',\n",
       " '@dec\\ndef c():\\n    print(\"shan\")',\n",
       " 'c()',\n",
       " 'l=[1,2,3,4,5]',\n",
       " 'x=[i for i in l]',\n",
       " 'x=[i for i in l]\\nx',\n",
       " 'x=[i**2 for i in l]\\nx',\n",
       " 'y={i:i**2 for i in l}',\n",
       " 'y',\n",
       " 'byte code -.pyc',\n",
       " 'x',\n",
       " 'x[0:2]',\n",
       " 'import math',\n",
       " 'math.isnan',\n",
       " 'math.isnan()',\n",
       " 'math.isnan(None)',\n",
       " 'math.isnan(Nan)',\n",
       " 'math.isnan(\"Nan\")',\n",
       " 'i=int(\"Nan\")\\ni',\n",
       " 'i=int(\"nan\")\\ni',\n",
       " 'i=float(\"nan\")\\ni',\n",
       " 'math.isnan(i)',\n",
       " 'a={\"a\":[1,2,3,4,5],\"b\":[1,2,3,4,5]}',\n",
       " 'a={\"a\":[1,2,3,4,5],\"b\":[1,2,3,4,5]}\\na',\n",
       " 'import pandas as pd',\n",
       " 'pd.Dataframe(a)',\n",
       " 'pd.DataFrame(a)',\n",
       " 'df1=pd.DataFrame(a)',\n",
       " 'b={\"c\":[1,2,3,4,5],\"d\":[1,2,3,4,5]}',\n",
       " 'df2=pd.DataFrame(b)',\n",
       " 'df1,df2',\n",
       " 'df1',\n",
       " 'df2',\n",
       " 'df1+df2',\n",
       " 'df1.add(df2)',\n",
       " 'df1.append(df2)',\n",
       " 'df1.append(df2,axis=1)',\n",
       " 'df1.append(df2)',\n",
       " 'df1.concat(df2)',\n",
       " 'df1.Concat(df2)',\n",
       " 'pd.concat([a,b])',\n",
       " 'pd.concat([df1,df2])',\n",
       " 'pd.concat([df1,df2],axis=1)',\n",
       " '# Q20. What are python modules? Name some commonly used built-in modules in Python',\n",
       " '# 1.datetime\\n# 2.os\\n# 3.math\\n# 4.json',\n",
       " 'a=\"1\"',\n",
       " 'a=\"1\"\\ntype(a)',\n",
       " 'int(a)',\n",
       " 'type(int(a))',\n",
       " 'import numpy as np',\n",
       " 'a=np.array([1,2,3,4,5])\\nb=np.array([1,2,3,4,5])\\na,b',\n",
       " 'a=np.array([1,2,3,4,5])\\nb=np.array([1,2,3,4,5])\\na+b',\n",
       " 'a=np.array([1,1.2,\"3\",4,5])\\nb=np.array([1,2,3,4,5])\\na+b',\n",
       " 'a=np.array([1,1.2,3,4,5])\\nb=np.array([1,2,3,4,5])\\na+b',\n",
       " 'a=np.array([1,1.2,3,4,5])\\nb=np.array([1,2,3,4,5])\\na',\n",
       " 'a=np.array([1,\"1\",3,4,5])\\nb=np.array([1,2,3,4,5])\\na',\n",
       " 'lambda x:x+2',\n",
       " 'x=lambda x:x+2',\n",
       " 'x(2)',\n",
       " 'x=lambda y:x+2',\n",
       " 'x(2)',\n",
       " 'x=lambda x:x+2',\n",
       " 'x(2)',\n",
       " '# Q31. How does break, continue and pass work?',\n",
       " '# Q32. What does [::-1} do?',\n",
       " 's=\"shan\"\\ns[::-1]',\n",
       " 's=[1,2,3,4,5]\\ns[::-1]',\n",
       " '# Q33. How can you randomize the items of a list in place in Python?',\n",
       " 'from random import shuffle',\n",
       " 'x=[1,2,3,4,5]',\n",
       " 'shuffle(x)',\n",
       " 'shuffle(x)\\nx',\n",
       " 'shuffle(x)\\nx',\n",
       " 'shuffle(x)\\nx',\n",
       " 'shuffle(x)\\nx',\n",
       " 'shuffle(x)\\nx',\n",
       " 'shuffle(x)\\nx',\n",
       " 'shuffle(x)\\nx',\n",
       " 'shuffle(x)\\nx',\n",
       " 'shuffle(x)\\nx',\n",
       " 'shuffle(x)\\nx',\n",
       " 'shuffle(x)\\nx',\n",
       " 'shuffle(x)\\nx',\n",
       " 'shuffle(x)\\nx',\n",
       " '# Q35. How can you generate random numbers in Python?',\n",
       " 'np.random()',\n",
       " 'np.random.randint(1,10)',\n",
       " 'np.random.randint(1,10,size=10)',\n",
       " 'np.random.randint(1,10,size=10)',\n",
       " 'np.random.randint(1,10,size=10)',\n",
       " 'np.random.randint(1,10,size=10)',\n",
       " 'np.random.randint(1,10,size=10)',\n",
       " 'np.random.randint(1,10,size=10)',\n",
       " 'np.random.randint(1,10,size=10)',\n",
       " 'np.random.randint(1,10,size=10)',\n",
       " 'np.random.randint(1,10,size=10)',\n",
       " 'np.random.rand(1,10,size=10)',\n",
       " 'np.random.rand(1,10)',\n",
       " \"''' skmdkmskdm'''\",\n",
       " '# Q39. What are the generators in python?',\n",
       " 'def x(i):\\n    for i in range(i):\\n        yield(i)',\n",
       " 'd=x(6)',\n",
       " 'd',\n",
       " 'next(d)',\n",
       " 'next(d)',\n",
       " 'next(d)',\n",
       " 'next(d)',\n",
       " 'next(d)',\n",
       " 'next(d)',\n",
       " 'next(d)',\n",
       " '# Q40. How will you capitalize the first letter of string?',\n",
       " 's=\"shan\"',\n",
       " 's.capitalize',\n",
       " 's.capitalize()',\n",
       " '\"\"\"\\nUsing docstring as a comment.\\nThis code divides 2 numbers\\n\"\"\"\\nx=8\\ny=4\\nz=x/y\\nprint(z)',\n",
       " '\"\"\"\\nUsing docstring as a comment.\\nThis code divides 2 numbers\\n\"\"\"\\nx=8\\ny=4\\nz=x/y\\nprint((z)\\nprint(__doc__)',\n",
       " '\"\"\"\\nUsing docstring as a comment.\\nThis code divides 2 numbers\\n\"\"\"\\nx=8\\ny=4\\nz=x/y\\nprint(z)\\nprint(__doc__)',\n",
       " 'help()',\n",
       " 'dir()',\n",
       " '_i95',\n",
       " 'In']"
      ]
     },
     "execution_count": 121,
     "metadata": {},
     "output_type": "execute_result"
    }
   ],
   "source": [
    "In"
   ]
  },
  {
   "cell_type": "code",
   "execution_count": null,
   "id": "417a56d2",
   "metadata": {},
   "outputs": [],
   "source": []
  },
  {
   "cell_type": "code",
   "execution_count": 122,
   "id": "49f28fbd",
   "metadata": {},
   "outputs": [],
   "source": [
    "# Q44. What is the purpose of ‘is’, ‘not’ and ‘in’ operators?"
   ]
  },
  {
   "cell_type": "code",
   "execution_count": 129,
   "id": "1025b0bc",
   "metadata": {},
   "outputs": [],
   "source": [
    "a=[1,2,3,4,5]\n",
    "b=[1,2,3,4,5]"
   ]
  },
  {
   "cell_type": "code",
   "execution_count": 133,
   "id": "0e73ac9a",
   "metadata": {},
   "outputs": [
    {
     "ename": "SyntaxError",
     "evalue": "invalid syntax (600218652.py, line 1)",
     "output_type": "error",
     "traceback": [
      "\u001b[1;36m  Cell \u001b[1;32mIn[133], line 1\u001b[1;36m\u001b[0m\n\u001b[1;33m    a not b\u001b[0m\n\u001b[1;37m          ^\u001b[0m\n\u001b[1;31mSyntaxError\u001b[0m\u001b[1;31m:\u001b[0m invalid syntax\n"
     ]
    }
   ],
   "source": []
  },
  {
   "cell_type": "code",
   "execution_count": 134,
   "id": "ff844531",
   "metadata": {},
   "outputs": [],
   "source": [
    "# Q46. Whenever Python exits, why isn’t all the memory de-allocated?"
   ]
  },
  {
   "cell_type": "code",
   "execution_count": 135,
   "id": "fd9032b6",
   "metadata": {},
   "outputs": [],
   "source": [
    "# Q48. How can the ternary operators be used in python?"
   ]
  },
  {
   "cell_type": "code",
   "execution_count": 138,
   "id": "550b6ac9",
   "metadata": {},
   "outputs": [],
   "source": [
    "x=10\n",
    "y=15\n"
   ]
  },
  {
   "cell_type": "code",
   "execution_count": 139,
   "id": "0598eab3",
   "metadata": {},
   "outputs": [
    {
     "data": {
      "text/plain": [
       "15"
      ]
     },
     "execution_count": 139,
     "metadata": {},
     "output_type": "execute_result"
    }
   ],
   "source": [
    "x if x>y else y"
   ]
  },
  {
   "cell_type": "code",
   "execution_count": 140,
   "id": "53ce97f9",
   "metadata": {},
   "outputs": [],
   "source": [
    "# Q51. Explain split(), sub(), subn() methods of “re” module in Python."
   ]
  },
  {
   "cell_type": "code",
   "execution_count": 141,
   "id": "c270a7de",
   "metadata": {},
   "outputs": [],
   "source": [
    "import re"
   ]
  },
  {
   "cell_type": "code",
   "execution_count": 143,
   "id": "af18a8f0",
   "metadata": {},
   "outputs": [
    {
     "data": {
      "text/plain": [
       "['s', 'han']"
      ]
     },
     "execution_count": 143,
     "metadata": {},
     "output_type": "execute_result"
    }
   ],
   "source": [
    "re.split(\",\",\"s,han\")"
   ]
  },
  {
   "cell_type": "code",
   "execution_count": 144,
   "id": "bf368fd2",
   "metadata": {},
   "outputs": [
    {
     "data": {
      "text/plain": [
       "'s.han'"
      ]
     },
     "execution_count": 144,
     "metadata": {},
     "output_type": "execute_result"
    }
   ],
   "source": [
    "re.sub(\",\",\".\",\"s,han\")"
   ]
  },
  {
   "cell_type": "code",
   "execution_count": 145,
   "id": "7246b9b8",
   "metadata": {},
   "outputs": [
    {
     "data": {
      "text/plain": [
       "('s.han', 1)"
      ]
     },
     "execution_count": 145,
     "metadata": {},
     "output_type": "execute_result"
    }
   ],
   "source": [
    "re.subn(\",\",\".\",\"s,han\")"
   ]
  },
  {
   "cell_type": "code",
   "execution_count": 149,
   "id": "65a65597",
   "metadata": {},
   "outputs": [],
   "source": [
    "a[0]=\"shan\""
   ]
  },
  {
   "cell_type": "code",
   "execution_count": 152,
   "id": "00ef8333",
   "metadata": {},
   "outputs": [
    {
     "data": {
      "text/plain": [
       "['shan', 2, 3, 4, 5]"
      ]
     },
     "execution_count": 152,
     "metadata": {},
     "output_type": "execute_result"
    }
   ],
   "source": [
    "a\n"
   ]
  },
  {
   "cell_type": "code",
   "execution_count": 155,
   "id": "26511f3c",
   "metadata": {},
   "outputs": [
    {
     "data": {
      "text/plain": [
       "'shan'"
      ]
     },
     "execution_count": 155,
     "metadata": {},
     "output_type": "execute_result"
    }
   ],
   "source": [
    "a.pop(0)\n"
   ]
  },
  {
   "cell_type": "code",
   "execution_count": 157,
   "id": "714bff9d",
   "metadata": {},
   "outputs": [
    {
     "data": {
      "text/plain": [
       "[2, 3, 4]"
      ]
     },
     "execution_count": 157,
     "metadata": {},
     "output_type": "execute_result"
    }
   ],
   "source": [
    "a"
   ]
  },
  {
   "cell_type": "code",
   "execution_count": 159,
   "id": "f7263cdd",
   "metadata": {},
   "outputs": [],
   "source": [
    "a.remove(2)"
   ]
  },
  {
   "cell_type": "code",
   "execution_count": 160,
   "id": "8e5aa8f8",
   "metadata": {},
   "outputs": [
    {
     "data": {
      "text/plain": [
       "[3, 4]"
      ]
     },
     "execution_count": 160,
     "metadata": {},
     "output_type": "execute_result"
    }
   ],
   "source": [
    "a"
   ]
  },
  {
   "cell_type": "code",
   "execution_count": null,
   "id": "ad23bae1",
   "metadata": {},
   "outputs": [],
   "source": []
  },
  {
   "cell_type": "code",
   "execution_count": 166,
   "id": "5dc3aaa1",
   "metadata": {},
   "outputs": [],
   "source": [
    "from abc import ABC,abstractmethod"
   ]
  },
  {
   "cell_type": "code",
   "execution_count": 178,
   "id": "43373b4b",
   "metadata": {},
   "outputs": [],
   "source": [
    "class c(ABC):\n",
    "    @abstractmethod\n",
    "    def _a(self):\n",
    "        pass\n",
    "#         print(\"1\")"
   ]
  },
  {
   "cell_type": "code",
   "execution_count": 179,
   "id": "eeede9fb",
   "metadata": {},
   "outputs": [],
   "source": [
    "class b(c):\n",
    "    def v(self):\n",
    "        print(\"v\")\n",
    "    def _a(self):\n",
    "        print(\"1\")\n",
    "    "
   ]
  },
  {
   "cell_type": "code",
   "execution_count": 181,
   "id": "ee4734ce",
   "metadata": {},
   "outputs": [
    {
     "name": "stdout",
     "output_type": "stream",
     "text": [
      "1\n"
     ]
    }
   ],
   "source": [
    "f=b()._a()"
   ]
  },
  {
   "cell_type": "code",
   "execution_count": 182,
   "id": "90bef7ee",
   "metadata": {},
   "outputs": [],
   "source": [
    "# Q76. Write a program in Python to execute the Bubble sort algorithm."
   ]
  },
  {
   "cell_type": "code",
   "execution_count": 185,
   "id": "0d6d8fbb",
   "metadata": {},
   "outputs": [],
   "source": [
    "z=list(np.random.randint(1,10,size=10))"
   ]
  },
  {
   "cell_type": "code",
   "execution_count": 193,
   "id": "6586f616",
   "metadata": {},
   "outputs": [
    {
     "data": {
      "text/plain": [
       "[9, 7, 2, 6, 4, 1, 8, 3, 2, 7]"
      ]
     },
     "execution_count": 193,
     "metadata": {},
     "output_type": "execute_result"
    }
   ],
   "source": [
    "z"
   ]
  },
  {
   "cell_type": "code",
   "execution_count": 197,
   "id": "f75721f0",
   "metadata": {},
   "outputs": [
    {
     "name": "stdout",
     "output_type": "stream",
     "text": [
      "[1, 2, 2, 3, 4, 6, 7, 7, 8, 9]\n"
     ]
    }
   ],
   "source": [
    "for i in range(0,len(z)):\n",
    "    for j in range(i+1,len(z)):\n",
    "        if z[i]>z[j]:\n",
    "            z[i],z[j]=z[j],z[i]\n",
    "print(z)\n",
    "            \n",
    "    "
   ]
  },
  {
   "cell_type": "code",
   "execution_count": 234,
   "id": "0fa01b11",
   "metadata": {},
   "outputs": [],
   "source": [
    "n=20"
   ]
  },
  {
   "cell_type": "code",
   "execution_count": 198,
   "id": "2b5f6c38",
   "metadata": {},
   "outputs": [],
   "source": [
    "# Q77. Write a program in Python to produce Star triangle."
   ]
  },
  {
   "cell_type": "code",
   "execution_count": 237,
   "id": "820cfc28",
   "metadata": {},
   "outputs": [
    {
     "name": "stdout",
     "output_type": "stream",
     "text": [
      "                   \n",
      "\n",
      "                   *\n",
      "\n",
      "                  * *\n",
      "\n",
      "                 * * *\n",
      "\n",
      "                * * * *\n",
      "\n",
      "               * * * * *\n",
      "\n",
      "              * * * * * *\n",
      "\n",
      "             * * * * * * *\n",
      "\n",
      "            * * * * * * * *\n",
      "\n",
      "           * * * * * * * * *\n",
      "\n",
      "          * * * * * * * * * *\n",
      "\n",
      "         * * * * * * * * * * *\n",
      "\n",
      "        * * * * * * * * * * * *\n",
      "\n",
      "       * * * * * * * * * * * * *\n",
      "\n",
      "      * * * * * * * * * * * * * *\n",
      "\n",
      "     * * * * * * * * * * * * * * *\n",
      "\n",
      "    * * * * * * * * * * * * * * * *\n",
      "\n",
      "   * * * * * * * * * * * * * * * * *\n",
      "\n",
      "  * * * * * * * * * * * * * * * * * *\n",
      "\n",
      " * * * * * * * * * * * * * * * * * * *\n",
      "\n",
      " * * * * * * * * * * * * * * * * * * *\n",
      "\n",
      "  * * * * * * * * * * * * * * * * * *\n",
      "\n",
      "   * * * * * * * * * * * * * * * * *\n",
      "\n",
      "    * * * * * * * * * * * * * * * *\n",
      "\n",
      "     * * * * * * * * * * * * * * *\n",
      "\n",
      "      * * * * * * * * * * * * * *\n",
      "\n",
      "       * * * * * * * * * * * * *\n",
      "\n",
      "        * * * * * * * * * * * *\n",
      "\n",
      "         * * * * * * * * * * *\n",
      "\n",
      "          * * * * * * * * * *\n",
      "\n",
      "           * * * * * * * * *\n",
      "\n",
      "            * * * * * * * *\n",
      "\n",
      "             * * * * * * *\n",
      "\n",
      "              * * * * * *\n",
      "\n",
      "               * * * * *\n",
      "\n",
      "                * * * *\n",
      "\n",
      "                 * * *\n",
      "\n",
      "                  * *\n",
      "\n",
      "                   *\n",
      "\n",
      "                   \n",
      "\n"
     ]
    }
   ],
   "source": [
    "for i in range(n):\n",
    "    for k in range(n-i,1,-1):\n",
    "        print(\" \",end=\"\")\n",
    "    for j in range(i):\n",
    "        print(\" *\",end=\"\")\n",
    "    print(\"\\n\")\n",
    "\n",
    "for i in range(n):\n",
    "    for j in range(i):\n",
    "        print(\" \",end=\"\")\n",
    "    for k in range(n-i,1,-1):\n",
    "        print(\" *\",end=\"\")\n",
    "    print(\"\\n\")\n",
    "    "
   ]
  },
  {
   "cell_type": "code",
   "execution_count": 238,
   "id": "82ac55c7",
   "metadata": {},
   "outputs": [],
   "source": [
    "# Q78. Write a program to produce Fibonacci series in Python."
   ]
  },
  {
   "cell_type": "code",
   "execution_count": 239,
   "id": "efa0bf77",
   "metadata": {},
   "outputs": [],
   "source": [
    "# [1,2,3,5,8,13]"
   ]
  },
  {
   "cell_type": "code",
   "execution_count": 241,
   "id": "97d50bdf",
   "metadata": {},
   "outputs": [
    {
     "data": {
      "text/plain": [
       "[1, 2, 3, 5, 8, 13, 21, 34, 55, 89]"
      ]
     },
     "execution_count": 241,
     "metadata": {},
     "output_type": "execute_result"
    }
   ],
   "source": [
    "l=10\n",
    "x=[1,2]\n",
    "while len(x)<l:\n",
    "    y=x[-1]+x[-2]\n",
    "    x.append(y)\n",
    "x"
   ]
  },
  {
   "cell_type": "code",
   "execution_count": null,
   "id": "0a3079bd",
   "metadata": {},
   "outputs": [],
   "source": []
  },
  {
   "cell_type": "code",
   "execution_count": 242,
   "id": "318dfbf7",
   "metadata": {},
   "outputs": [],
   "source": [
    "# Q79. Write a program in Python to check if a number is prime."
   ]
  },
  {
   "cell_type": "code",
   "execution_count": 258,
   "id": "ae9618e7",
   "metadata": {},
   "outputs": [],
   "source": [
    "def check_prime(n):\n",
    "    if n<2:\n",
    "        return False\n",
    "    for i in range(2,int(math.sqrt(n))+1):\n",
    "        if n%i ==0:\n",
    "            return False\n",
    "    return True\n"
   ]
  },
  {
   "cell_type": "code",
   "execution_count": null,
   "id": "3c42f2ea",
   "metadata": {},
   "outputs": [],
   "source": []
  },
  {
   "cell_type": "code",
   "execution_count": 259,
   "id": "db9190ac",
   "metadata": {},
   "outputs": [],
   "source": [
    "# Q81. Write a one-liner that will count the number of capital letters in a file. Your code should work even if the file is too big to fit in memory."
   ]
  },
  {
   "cell_type": "code",
   "execution_count": 271,
   "id": "43f7b2da",
   "metadata": {},
   "outputs": [
    {
     "data": {
      "text/plain": [
       "10769"
      ]
     },
     "execution_count": 271,
     "metadata": {},
     "output_type": "execute_result"
    }
   ],
   "source": [
    "sum(1 for line in open(\"1.txt\",\"rb\") for char in line if chr(char).isupper())"
   ]
  },
  {
   "cell_type": "code",
   "execution_count": 283,
   "id": "a5873fed",
   "metadata": {},
   "outputs": [
    {
     "name": "stdout",
     "output_type": "stream",
     "text": [
      "10677\n"
     ]
    }
   ],
   "source": [
    "with open(\"1.txt\",encoding=\"utf-8\") as file:\n",
    "    line=file.read()\n",
    "    c=0\n",
    "    for char in line:\n",
    "        if char.isupper():\n",
    "            c+=1\n",
    "print(c)       "
   ]
  },
  {
   "cell_type": "code",
   "execution_count": 285,
   "id": "e21f6d10",
   "metadata": {},
   "outputs": [
    {
     "name": "stdout",
     "output_type": "stream",
     "text": [
      "{'a': 1, 'b': 2, 'c': 3, 'd': 4, 'e': 5} range(0, 10) [] [1, 2, 3, 4, 5] [1, 2, 3, 4, 5] {0: 0, 1: 1, 2: 4, 3: 9, 4: 16, 5: 25, 6: 36, 7: 49, 8: 64, 9: 81} [[0, 0], [1, 1], [2, 4], [3, 9], [4, 16], [5, 25], [6, 36], [7, 49], [8, 64], [9, 81]]\n"
     ]
    }
   ],
   "source": [
    "A0 = dict(zip(('a','b','c','d','e'),(1,2,3,4,5)))\n",
    "A1 = range(10)\n",
    "A2 = sorted([i for i in A1 if i in A0])\n",
    "A3 = sorted([A0[s] for s in A0])\n",
    "A4 = [i for i in A1 if i in A3]\n",
    "A5 = {i:i*i for i in A1}\n",
    "A6 = [[i,i*i] for i in A1]\n",
    "print(A0,A1,A2,A3,A4,A5,A6)"
   ]
  },
  {
   "cell_type": "code",
   "execution_count": 287,
   "id": "342f80ce",
   "metadata": {},
   "outputs": [
    {
     "data": {
      "text/plain": [
       "True"
      ]
     },
     "execution_count": 287,
     "metadata": {},
     "output_type": "execute_result"
    }
   ],
   "source": [
    "'1'!=1"
   ]
  },
  {
   "cell_type": "code",
   "execution_count": null,
   "id": "23076ce5",
   "metadata": {},
   "outputs": [],
   "source": []
  },
  {
   "cell_type": "code",
   "execution_count": null,
   "id": "33b8f784",
   "metadata": {},
   "outputs": [],
   "source": []
  },
  {
   "cell_type": "code",
   "execution_count": null,
   "id": "9a1a1085",
   "metadata": {},
   "outputs": [],
   "source": []
  },
  {
   "cell_type": "code",
   "execution_count": null,
   "id": "e832af64",
   "metadata": {},
   "outputs": [],
   "source": []
  },
  {
   "cell_type": "code",
   "execution_count": null,
   "id": "00aed337",
   "metadata": {},
   "outputs": [],
   "source": []
  }
 ],
 "metadata": {
  "kernelspec": {
   "display_name": "Python 3 (ipykernel)",
   "language": "python",
   "name": "python3"
  },
  "language_info": {
   "codemirror_mode": {
    "name": "ipython",
    "version": 3
   },
   "file_extension": ".py",
   "mimetype": "text/x-python",
   "name": "python",
   "nbconvert_exporter": "python",
   "pygments_lexer": "ipython3",
   "version": "3.11.4"
  }
 },
 "nbformat": 4,
 "nbformat_minor": 5
}
