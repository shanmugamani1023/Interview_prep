{
 "cells": [
  {
   "cell_type": "code",
   "execution_count": 1,
   "id": "e2bfc880",
   "metadata": {},
   "outputs": [],
   "source": [
    "#map,lambda,decorator,generator"
   ]
  },
  {
   "cell_type": "code",
   "execution_count": 2,
   "id": "fc2443f4",
   "metadata": {},
   "outputs": [],
   "source": [
    "#map"
   ]
  },
  {
   "cell_type": "code",
   "execution_count": null,
   "id": "1c34ca16",
   "metadata": {},
   "outputs": [],
   "source": []
  },
  {
   "cell_type": "code",
   "execution_count": 17,
   "id": "5e13a5be",
   "metadata": {},
   "outputs": [],
   "source": [
    "def sum(x):\n",
    "    return (x)"
   ]
  },
  {
   "cell_type": "code",
   "execution_count": 18,
   "id": "9996dff6",
   "metadata": {},
   "outputs": [
    {
     "data": {
      "text/plain": [
       "[1, 2, 3, 4, 5]"
      ]
     },
     "execution_count": 18,
     "metadata": {},
     "output_type": "execute_result"
    }
   ],
   "source": [
    "li=[1,2,3,4,5]\n",
    "lis=map(sum,li)\n",
    "list(lis)"
   ]
  },
  {
   "cell_type": "code",
   "execution_count": null,
   "id": "83e20bee",
   "metadata": {},
   "outputs": [],
   "source": []
  },
  {
   "cell_type": "code",
   "execution_count": 19,
   "id": "3c329483",
   "metadata": {},
   "outputs": [],
   "source": [
    "s=lambda x:x+1"
   ]
  },
  {
   "cell_type": "code",
   "execution_count": 20,
   "id": "6c432171",
   "metadata": {},
   "outputs": [],
   "source": [
    "lis=list(map(s,li))"
   ]
  },
  {
   "cell_type": "code",
   "execution_count": 21,
   "id": "75f9134d",
   "metadata": {},
   "outputs": [
    {
     "data": {
      "text/plain": [
       "[2, 3, 4, 5, 6]"
      ]
     },
     "execution_count": 21,
     "metadata": {},
     "output_type": "execute_result"
    }
   ],
   "source": [
    "lis"
   ]
  },
  {
   "cell_type": "code",
   "execution_count": null,
   "id": "850a843b",
   "metadata": {},
   "outputs": [],
   "source": []
  },
  {
   "cell_type": "code",
   "execution_count": 22,
   "id": "b9b9e22d",
   "metadata": {},
   "outputs": [],
   "source": [
    "#decorator"
   ]
  },
  {
   "cell_type": "code",
   "execution_count": 24,
   "id": "764f279d",
   "metadata": {},
   "outputs": [],
   "source": []
  },
  {
   "cell_type": "code",
   "execution_count": 28,
   "id": "d0e18e88",
   "metadata": {},
   "outputs": [],
   "source": [
    "def deco(func):\n",
    "    def wrap():\n",
    "        print(\"hai\")\n",
    "        func()\n",
    "        print(\"hello\")\n",
    "    return wrap\n",
    "        "
   ]
  },
  {
   "cell_type": "code",
   "execution_count": 29,
   "id": "4647f1d3",
   "metadata": {},
   "outputs": [],
   "source": [
    "@deco\n",
    "def p():\n",
    "    print(\"shan\")"
   ]
  },
  {
   "cell_type": "code",
   "execution_count": 30,
   "id": "489ec762",
   "metadata": {},
   "outputs": [
    {
     "name": "stdout",
     "output_type": "stream",
     "text": [
      "hai\n",
      "shan\n",
      "hello\n"
     ]
    }
   ],
   "source": [
    "p()"
   ]
  },
  {
   "cell_type": "code",
   "execution_count": null,
   "id": "ef0a79e2",
   "metadata": {},
   "outputs": [],
   "source": []
  },
  {
   "cell_type": "code",
   "execution_count": 45,
   "id": "d5554c50",
   "metadata": {},
   "outputs": [],
   "source": [
    "def gen(x):\n",
    "    for i in range(x):\n",
    "        yield(i**2)"
   ]
  },
  {
   "cell_type": "code",
   "execution_count": 46,
   "id": "dd226254",
   "metadata": {},
   "outputs": [],
   "source": [
    "x=gen(5)"
   ]
  },
  {
   "cell_type": "code",
   "execution_count": 52,
   "id": "4c78f473",
   "metadata": {},
   "outputs": [
    {
     "ename": "StopIteration",
     "evalue": "",
     "output_type": "error",
     "traceback": [
      "\u001b[1;31m---------------------------------------------------------------------------\u001b[0m",
      "\u001b[1;31mStopIteration\u001b[0m                             Traceback (most recent call last)",
      "Cell \u001b[1;32mIn[52], line 1\u001b[0m\n\u001b[1;32m----> 1\u001b[0m \u001b[38;5;28mnext\u001b[39m(x)\n",
      "\u001b[1;31mStopIteration\u001b[0m: "
     ]
    }
   ],
   "source": [
    "next(x)"
   ]
  },
  {
   "cell_type": "code",
   "execution_count": null,
   "id": "ebbccbdd",
   "metadata": {},
   "outputs": [],
   "source": []
  }
 ],
 "metadata": {
  "kernelspec": {
   "display_name": "Python 3 (ipykernel)",
   "language": "python",
   "name": "python3"
  },
  "language_info": {
   "codemirror_mode": {
    "name": "ipython",
    "version": 3
   },
   "file_extension": ".py",
   "mimetype": "text/x-python",
   "name": "python",
   "nbconvert_exporter": "python",
   "pygments_lexer": "ipython3",
   "version": "3.11.4"
  }
 },
 "nbformat": 4,
 "nbformat_minor": 5
}
