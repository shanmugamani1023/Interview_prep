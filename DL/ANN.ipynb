{
 "cells": [
  {
   "cell_type": "markdown",
   "id": "bf3973d6",
   "metadata": {},
   "source": [
    "# Implement ANN with keras"
   ]
  },
  {
   "cell_type": "code",
   "execution_count": 1,
   "id": "6e308355",
   "metadata": {},
   "outputs": [
    {
     "ename": "ModuleNotFoundError",
     "evalue": "No module named 'tensorflow'",
     "output_type": "error",
     "traceback": [
      "\u001b[1;31m---------------------------------------------------------------------------\u001b[0m",
      "\u001b[1;31mModuleNotFoundError\u001b[0m                       Traceback (most recent call last)",
      "Cell \u001b[1;32mIn[1], line 1\u001b[0m\n\u001b[1;32m----> 1\u001b[0m \u001b[38;5;28;01mimport\u001b[39;00m \u001b[38;5;21;01mtensorflow\u001b[39;00m \u001b[38;5;28;01mas\u001b[39;00m \u001b[38;5;21;01mtf\u001b[39;00m\n\u001b[0;32m      2\u001b[0m \u001b[38;5;28;01mimport\u001b[39;00m \u001b[38;5;21;01mseaborn\u001b[39;00m \u001b[38;5;28;01mas\u001b[39;00m \u001b[38;5;21;01msb\u001b[39;00m\n\u001b[0;32m      3\u001b[0m \u001b[38;5;28;01mimport\u001b[39;00m \u001b[38;5;21;01mmatplotlib\u001b[39;00m\u001b[38;5;21;01m.\u001b[39;00m\u001b[38;5;21;01mpyplot\u001b[39;00m \u001b[38;5;28;01mas\u001b[39;00m \u001b[38;5;21;01mplt\u001b[39;00m\n",
      "\u001b[1;31mModuleNotFoundError\u001b[0m: No module named 'tensorflow'"
     ]
    }
   ],
   "source": [
    "import tensorflow as tf\n",
    "import seaborn as sb\n",
    "import matplotlib.pyplot as plt"
   ]
  },
  {
   "cell_type": "markdown",
   "id": "306b081f",
   "metadata": {},
   "source": [
    "# import mnist datasets"
   ]
  },
  {
   "cell_type": "code",
   "execution_count": 22,
   "id": "ec5b3635",
   "metadata": {},
   "outputs": [],
   "source": [
    "mnist=tf.keras.datasets.mnist"
   ]
  },
  {
   "cell_type": "code",
   "execution_count": 27,
   "id": "9182f8a4",
   "metadata": {},
   "outputs": [],
   "source": [
    "(x_train_full,y_train_full),(x_test,y_test)=mnist.load_data()"
   ]
  },
  {
   "cell_type": "code",
   "execution_count": 36,
   "id": "0a546a4a",
   "metadata": {},
   "outputs": [
    {
     "name": "stdout",
     "output_type": "stream",
     "text": [
      "x_train_full.shape:(60000, 28, 28),y_train_full.shape:(60000,),x_test.shape:(10000, 28, 28),y_test.shape:(10000,)\n"
     ]
    }
   ],
   "source": [
    "print(f\"x_train_full.shape:{x_train_full.shape},y_train_full.shape:{y_train_full.shape},x_test.shape:{x_test.shape},y_test.shape:{y_test.shape}\")"
   ]
  },
  {
   "cell_type": "markdown",
   "id": "cadc7f5b",
   "metadata": {},
   "source": [
    "# we have to split  x_train ,y_train ,x_valid ,y_valid and scale all include x_test within 0 to 1 by divide the pixels with 255"
   ]
  },
  {
   "cell_type": "code",
   "execution_count": 54,
   "id": "f1f1579b",
   "metadata": {},
   "outputs": [],
   "source": [
    "x_train_val,x_train=x_train_full[:5000]/255,x_train_full[5000:]/255\n",
    "y_train_val,y_train=y_train_full[:5000],y_train_full[5000:]\n",
    "\n",
    "x_test=x_test/255"
   ]
  },
  {
   "cell_type": "code",
   "execution_count": 55,
   "id": "bf92f3db",
   "metadata": {},
   "outputs": [
    {
     "data": {
      "text/plain": [
       "(5000, 28, 28)"
      ]
     },
     "execution_count": 55,
     "metadata": {},
     "output_type": "execute_result"
    }
   ],
   "source": [
    "x_train_val.shape"
   ]
  },
  {
   "cell_type": "code",
   "execution_count": 43,
   "id": "df0b3aa5",
   "metadata": {},
   "outputs": [
    {
     "data": {
      "text/plain": [
       "(55000, 28, 28)"
      ]
     },
     "execution_count": 43,
     "metadata": {},
     "output_type": "execute_result"
    }
   ],
   "source": [
    "x_train.shape"
   ]
  },
  {
   "cell_type": "code",
   "execution_count": 44,
   "id": "cc8454c8",
   "metadata": {},
   "outputs": [
    {
     "data": {
      "text/plain": [
       "(10000, 28, 28)"
      ]
     },
     "execution_count": 44,
     "metadata": {},
     "output_type": "execute_result"
    }
   ],
   "source": [
    "x_test.shape"
   ]
  },
  {
   "cell_type": "code",
   "execution_count": 61,
   "id": "28eed363",
   "metadata": {},
   "outputs": [
    {
     "data": {
      "text/plain": [
       "7"
      ]
     },
     "execution_count": 61,
     "metadata": {},
     "output_type": "execute_result"
    }
   ],
   "source": []
  },
  {
   "cell_type": "code",
   "execution_count": 111,
   "id": "918dea65",
   "metadata": {},
   "outputs": [
    {
     "name": "stdout",
     "output_type": "stream",
     "text": [
      "The value of that below image is : 0\n"
     ]
    },
    {
     "data": {
      "image/png": "[encoded data removed]",
      "text/plain": [
       "<Figure size 640x480 with 1 Axes>"
      ]
     },
     "metadata": {},
     "output_type": "display_data"
    }
   ],
   "source": [
    "plt.imshow(x_test[3],cmap=\"binary\")\n",
    "print(f\"The value of that below image is : {y_test[3]}\")\n",
    "    \n"
   ]
  },
  {
   "cell_type": "code",
   "execution_count": 73,
   "id": "8909f0f5",
   "metadata": {},
   "outputs": [
    {
     "data": {
      "text/plain": [
       "array([7, 3, 4, ..., 5, 6, 8], dtype=uint8)"
      ]
     },
     "execution_count": 73,
     "metadata": {},
     "output_type": "execute_result"
    }
   ],
   "source": [
    "y_train"
   ]
  },
  {
   "cell_type": "markdown",
   "id": "865b50da",
   "metadata": {},
   "source": [
    "# create a architechture"
   ]
  },
  {
   "cell_type": "code",
   "execution_count": 76,
   "id": "a0fb9dc1",
   "metadata": {},
   "outputs": [
    {
     "data": {
      "text/plain": [
       "array([0, 1, 2, 3, 4, 5, 6, 7, 8, 9], dtype=uint8)"
      ]
     },
     "execution_count": 76,
     "metadata": {},
     "output_type": "execute_result"
    }
   ],
   "source": [
    "import numpy as np\n",
    "np.unique(y_train)"
   ]
  },
  {
   "cell_type": "code",
   "execution_count": 79,
   "id": "75571c26",
   "metadata": {},
   "outputs": [],
   "source": [
    "# input layer - flattes with 28 * 28 because input size is 28 * 28\n",
    "# next hidden layer -dense -300 -hyperparamter ,activation =relu\n",
    "# next hidden layer -dense -100 -hyperparameter,activation=relu\n",
    "# here we have 0 to 9 outputs ,so we have to create 10 output layers ,activation=softmax\n",
    "# we can give name for each layer"
   ]
  },
  {
   "cell_type": "code",
   "execution_count": 87,
   "id": "bd5c2aee",
   "metadata": {},
   "outputs": [],
   "source": [
    "Layers=[tf.keras.layers.Flatten(input_shape=(28,28),name=\"Input_layer\"),\n",
    "        tf.keras.layers.Dense(300,activation=\"relu\",name=\"Hiddenlayer1\"),\n",
    "        tf.keras.layers.Dense(100,activation=\"relu\",name=\"Hiddenlayer2\"),\n",
    "        tf.keras.layers.Dense(10,activation=\"softmax\",name=\"outputlayer\")\n",
    "]\n",
    "model_arch=tf.keras.models.Sequential(Layers)"
   ]
  },
  {
   "cell_type": "code",
   "execution_count": 90,
   "id": "1405ab35",
   "metadata": {},
   "outputs": [
    {
     "name": "stdout",
     "output_type": "stream",
     "text": [
      "Model: \"sequential_3\"\n",
      "_________________________________________________________________\n",
      " Layer (type)                Output Shape              Param #   \n",
      "=================================================================\n",
      " Input_layer (Flatten)       (None, 784)               0         \n",
      "                                                                 \n",
      " Hiddenlayer1 (Dense)        (None, 300)               235500    \n",
      "                                                                 \n",
      " Hiddenlayer2 (Dense)        (None, 100)               30100     \n",
      "                                                                 \n",
      " outputlayer (Dense)         (None, 10)                1010      \n",
      "                                                                 \n",
      "=================================================================\n",
      "Total params: 266610 (1.02 MB)\n",
      "Trainable params: 266610 (1.02 MB)\n",
      "Non-trainable params: 0 (0.00 Byte)\n",
      "_________________________________________________________________\n"
     ]
    }
   ],
   "source": [
    "model_arch.summary()"
   ]
  },
  {
   "cell_type": "code",
   "execution_count": 93,
   "id": "b134a5a2",
   "metadata": {},
   "outputs": [],
   "source": [
    "hiddenlayer_1=model_arch.layers[1]"
   ]
  },
  {
   "cell_type": "code",
   "execution_count": 95,
   "id": "9a045d41",
   "metadata": {},
   "outputs": [
    {
     "data": {
      "text/plain": [
       "[array([[ 6.9443882e-03,  4.7220208e-02,  9.3306080e-03, ...,\n",
       "          5.2643985e-02,  1.9211903e-02,  1.9809939e-02],\n",
       "        [ 6.7606479e-02,  2.6499629e-03,  3.4382030e-02, ...,\n",
       "         -6.9934309e-02,  6.5427408e-02, -4.9661521e-02],\n",
       "        [-5.2187622e-02, -1.5449528e-02, -7.1953923e-02, ...,\n",
       "         -3.4617141e-02,  1.2584083e-02, -4.5925573e-02],\n",
       "        ...,\n",
       "        [-5.1710755e-02, -7.1247585e-02, -5.4960314e-02, ...,\n",
       "         -6.4226143e-02, -5.6352206e-02,  2.8355822e-02],\n",
       "        [ 4.2021312e-02,  6.7343339e-03, -5.6062795e-02, ...,\n",
       "         -1.7515562e-02, -4.1631505e-02,  7.0940703e-02],\n",
       "        [ 2.1069609e-02, -8.2312152e-03, -3.4891546e-02, ...,\n",
       "          5.1975250e-05,  6.1538011e-02, -6.8480179e-02]], dtype=float32),\n",
       " array([0., 0., 0., 0., 0., 0., 0., 0., 0., 0., 0., 0., 0., 0., 0., 0., 0.,\n",
       "        0., 0., 0., 0., 0., 0., 0., 0., 0., 0., 0., 0., 0., 0., 0., 0., 0.,\n",
       "        0., 0., 0., 0., 0., 0., 0., 0., 0., 0., 0., 0., 0., 0., 0., 0., 0.,\n",
       "        0., 0., 0., 0., 0., 0., 0., 0., 0., 0., 0., 0., 0., 0., 0., 0., 0.,\n",
       "        0., 0., 0., 0., 0., 0., 0., 0., 0., 0., 0., 0., 0., 0., 0., 0., 0.,\n",
       "        0., 0., 0., 0., 0., 0., 0., 0., 0., 0., 0., 0., 0., 0., 0., 0., 0.,\n",
       "        0., 0., 0., 0., 0., 0., 0., 0., 0., 0., 0., 0., 0., 0., 0., 0., 0.,\n",
       "        0., 0., 0., 0., 0., 0., 0., 0., 0., 0., 0., 0., 0., 0., 0., 0., 0.,\n",
       "        0., 0., 0., 0., 0., 0., 0., 0., 0., 0., 0., 0., 0., 0., 0., 0., 0.,\n",
       "        0., 0., 0., 0., 0., 0., 0., 0., 0., 0., 0., 0., 0., 0., 0., 0., 0.,\n",
       "        0., 0., 0., 0., 0., 0., 0., 0., 0., 0., 0., 0., 0., 0., 0., 0., 0.,\n",
       "        0., 0., 0., 0., 0., 0., 0., 0., 0., 0., 0., 0., 0., 0., 0., 0., 0.,\n",
       "        0., 0., 0., 0., 0., 0., 0., 0., 0., 0., 0., 0., 0., 0., 0., 0., 0.,\n",
       "        0., 0., 0., 0., 0., 0., 0., 0., 0., 0., 0., 0., 0., 0., 0., 0., 0.,\n",
       "        0., 0., 0., 0., 0., 0., 0., 0., 0., 0., 0., 0., 0., 0., 0., 0., 0.,\n",
       "        0., 0., 0., 0., 0., 0., 0., 0., 0., 0., 0., 0., 0., 0., 0., 0., 0.,\n",
       "        0., 0., 0., 0., 0., 0., 0., 0., 0., 0., 0., 0., 0., 0., 0., 0., 0.,\n",
       "        0., 0., 0., 0., 0., 0., 0., 0., 0., 0., 0.], dtype=float32)]"
      ]
     },
     "execution_count": 95,
     "metadata": {},
     "output_type": "execute_result"
    }
   ],
   "source": [
    "hiddenlayer_1.get_weights()"
   ]
  },
  {
   "cell_type": "code",
   "execution_count": null,
   "id": "b4978737",
   "metadata": {},
   "outputs": [],
   "source": []
  },
  {
   "cell_type": "markdown",
   "id": "471c21e5",
   "metadata": {},
   "source": [
    "# Model Compile "
   ]
  },
  {
   "cell_type": "code",
   "execution_count": 96,
   "id": "dfb6cb4e",
   "metadata": {},
   "outputs": [
    {
     "name": "stdout",
     "output_type": "stream",
     "text": [
      "WARNING:tensorflow:From C:\\Users\\shan\\AppData\\Roaming\\Python\\Python311\\site-packages\\keras\\src\\optimizers\\__init__.py:309: The name tf.train.Optimizer is deprecated. Please use tf.compat.v1.train.Optimizer instead.\n",
      "\n"
     ]
    }
   ],
   "source": [
    "LOSS_FUNCTION = \"sparse_categorical_crossentropy\" # use => tf.losses.sparse_categorical_crossentropy\n",
    "OPTIMIZER = \"SGD\" # or use with custom learning rate=> tf.keras.optimizers.SGD(0.02)\n",
    "METRICS = [\"accuracy\"]\n",
    "\n",
    "model_arch.compile(loss=LOSS_FUNCTION,\n",
    "              optimizer=OPTIMIZER,\n",
    "              metrics=METRICS)"
   ]
  },
  {
   "cell_type": "markdown",
   "id": "2de1c9a6",
   "metadata": {},
   "source": [
    "# Model training"
   ]
  },
  {
   "cell_type": "code",
   "execution_count": 98,
   "id": "29502cf5",
   "metadata": {},
   "outputs": [
    {
     "name": "stdout",
     "output_type": "stream",
     "text": [
      "Epoch 1/30\n",
      "WARNING:tensorflow:From C:\\Users\\shan\\AppData\\Roaming\\Python\\Python311\\site-packages\\keras\\src\\utils\\tf_utils.py:492: The name tf.ragged.RaggedTensorValue is deprecated. Please use tf.compat.v1.ragged.RaggedTensorValue instead.\n",
      "\n",
      "WARNING:tensorflow:From C:\\Users\\shan\\AppData\\Roaming\\Python\\Python311\\site-packages\\keras\\src\\engine\\base_layer_utils.py:384: The name tf.executing_eagerly_outside_functions is deprecated. Please use tf.compat.v1.executing_eagerly_outside_functions instead.\n",
      "\n",
      "1719/1719 [==============================] - 5s 2ms/step - loss: 0.6034 - accuracy: 0.8458 - val_loss: 0.3071 - val_accuracy: 0.9186\n",
      "Epoch 2/30\n",
      "1719/1719 [==============================] - 4s 2ms/step - loss: 0.2866 - accuracy: 0.9194 - val_loss: 0.2387 - val_accuracy: 0.9346\n",
      "Epoch 3/30\n",
      "1719/1719 [==============================] - 4s 2ms/step - loss: 0.2323 - accuracy: 0.9343 - val_loss: 0.1972 - val_accuracy: 0.9444\n",
      "Epoch 4/30\n",
      "1719/1719 [==============================] - 4s 2ms/step - loss: 0.1968 - accuracy: 0.9444 - val_loss: 0.1712 - val_accuracy: 0.9516\n",
      "Epoch 5/30\n",
      "1719/1719 [==============================] - 4s 2ms/step - loss: 0.1714 - accuracy: 0.9512 - val_loss: 0.1536 - val_accuracy: 0.9574\n",
      "Epoch 6/30\n",
      "1719/1719 [==============================] - 4s 2ms/step - loss: 0.1522 - accuracy: 0.9569 - val_loss: 0.1403 - val_accuracy: 0.9626\n",
      "Epoch 7/30\n",
      "1719/1719 [==============================] - 4s 2ms/step - loss: 0.1369 - accuracy: 0.9608 - val_loss: 0.1291 - val_accuracy: 0.9640\n",
      "Epoch 8/30\n",
      "1719/1719 [==============================] - 4s 2ms/step - loss: 0.1242 - accuracy: 0.9651 - val_loss: 0.1213 - val_accuracy: 0.9670\n",
      "Epoch 9/30\n",
      "1719/1719 [==============================] - 4s 2ms/step - loss: 0.1131 - accuracy: 0.9682 - val_loss: 0.1140 - val_accuracy: 0.9698\n",
      "Epoch 10/30\n",
      "1719/1719 [==============================] - 4s 2ms/step - loss: 0.1039 - accuracy: 0.9706 - val_loss: 0.1085 - val_accuracy: 0.9692\n",
      "Epoch 11/30\n",
      "1719/1719 [==============================] - 4s 3ms/step - loss: 0.0959 - accuracy: 0.9731 - val_loss: 0.1011 - val_accuracy: 0.9732\n",
      "Epoch 12/30\n",
      "1719/1719 [==============================] - 4s 3ms/step - loss: 0.0881 - accuracy: 0.9757 - val_loss: 0.0958 - val_accuracy: 0.9734\n",
      "Epoch 13/30\n",
      "1719/1719 [==============================] - 4s 2ms/step - loss: 0.0822 - accuracy: 0.9769 - val_loss: 0.0924 - val_accuracy: 0.9738\n",
      "Epoch 14/30\n",
      "1719/1719 [==============================] - 4s 2ms/step - loss: 0.0762 - accuracy: 0.9789 - val_loss: 0.0910 - val_accuracy: 0.9750\n",
      "Epoch 15/30\n",
      "1719/1719 [==============================] - 4s 2ms/step - loss: 0.0708 - accuracy: 0.9803 - val_loss: 0.0874 - val_accuracy: 0.9766\n",
      "Epoch 16/30\n",
      "1719/1719 [==============================] - 4s 2ms/step - loss: 0.0662 - accuracy: 0.9822 - val_loss: 0.0837 - val_accuracy: 0.9752\n",
      "Epoch 17/30\n",
      "1719/1719 [==============================] - 5s 3ms/step - loss: 0.0620 - accuracy: 0.9834 - val_loss: 0.0803 - val_accuracy: 0.9764\n",
      "Epoch 18/30\n",
      "1719/1719 [==============================] - 5s 3ms/step - loss: 0.0576 - accuracy: 0.9851 - val_loss: 0.0776 - val_accuracy: 0.9768\n",
      "Epoch 19/30\n",
      "1719/1719 [==============================] - 5s 3ms/step - loss: 0.0541 - accuracy: 0.9858 - val_loss: 0.0759 - val_accuracy: 0.9786\n",
      "Epoch 20/30\n",
      "1719/1719 [==============================] - 5s 3ms/step - loss: 0.0506 - accuracy: 0.9867 - val_loss: 0.0755 - val_accuracy: 0.9774\n",
      "Epoch 21/30\n",
      "1719/1719 [==============================] - 5s 3ms/step - loss: 0.0477 - accuracy: 0.9872 - val_loss: 0.0738 - val_accuracy: 0.9780\n",
      "Epoch 22/30\n",
      "1719/1719 [==============================] - 5s 3ms/step - loss: 0.0446 - accuracy: 0.9885 - val_loss: 0.0709 - val_accuracy: 0.9800\n",
      "Epoch 23/30\n",
      "1719/1719 [==============================] - 5s 3ms/step - loss: 0.0424 - accuracy: 0.9890 - val_loss: 0.0704 - val_accuracy: 0.9796\n",
      "Epoch 24/30\n",
      "1719/1719 [==============================] - 4s 3ms/step - loss: 0.0395 - accuracy: 0.9899 - val_loss: 0.0697 - val_accuracy: 0.9818\n",
      "Epoch 25/30\n",
      "1719/1719 [==============================] - 4s 3ms/step - loss: 0.0371 - accuracy: 0.9903 - val_loss: 0.0692 - val_accuracy: 0.9808\n",
      "Epoch 26/30\n",
      "1719/1719 [==============================] - 5s 3ms/step - loss: 0.0348 - accuracy: 0.9915 - val_loss: 0.0684 - val_accuracy: 0.9816\n",
      "Epoch 27/30\n",
      "1719/1719 [==============================] - 5s 3ms/step - loss: 0.0331 - accuracy: 0.9920 - val_loss: 0.0705 - val_accuracy: 0.9812\n",
      "Epoch 28/30\n",
      "1719/1719 [==============================] - 4s 3ms/step - loss: 0.0312 - accuracy: 0.9926 - val_loss: 0.0673 - val_accuracy: 0.9812\n",
      "Epoch 29/30\n",
      "1719/1719 [==============================] - 4s 3ms/step - loss: 0.0292 - accuracy: 0.9933 - val_loss: 0.0674 - val_accuracy: 0.9810\n",
      "Epoch 30/30\n",
      "1719/1719 [==============================] - 5s 3ms/step - loss: 0.0275 - accuracy: 0.9939 - val_loss: 0.0682 - val_accuracy: 0.9812\n"
     ]
    }
   ],
   "source": [
    "EPOCHS = 30\n",
    "VALIDATION_SET = (x_train_val, y_train_val)\n",
    "\n",
    "history = model_arch.fit(x_train, y_train, epochs=EPOCHS,\n",
    "                    validation_data=VALIDATION_SET, batch_size=32)"
   ]
  },
  {
   "cell_type": "code",
   "execution_count": null,
   "id": "53ac2637",
   "metadata": {},
   "outputs": [],
   "source": []
  },
  {
   "cell_type": "markdown",
   "id": "226bf609",
   "metadata": {},
   "source": [
    "# Evaluation"
   ]
  },
  {
   "cell_type": "code",
   "execution_count": 104,
   "id": "e7d985af",
   "metadata": {},
   "outputs": [
    {
     "data": {
      "text/html": [
       "<div>\n",
       "<style scoped>\n",
       "    .dataframe tbody tr th:only-of-type {\n",
       "        vertical-align: middle;\n",
       "    }\n",
       "\n",
       "    .dataframe tbody tr th {\n",
       "        vertical-align: top;\n",
       "    }\n",
       "\n",
       "    .dataframe thead th {\n",
       "        text-align: right;\n",
       "    }\n",
       "</style>\n",
       "<table border=\"1\" class=\"dataframe\">\n",
       "  <thead>\n",
       "    <tr style=\"text-align: right;\">\n",
       "      <th></th>\n",
       "      <th>loss</th>\n",
       "      <th>accuracy</th>\n",
       "      <th>val_loss</th>\n",
       "      <th>val_accuracy</th>\n",
       "    </tr>\n",
       "  </thead>\n",
       "  <tbody>\n",
       "    <tr>\n",
       "      <th>0</th>\n",
       "      <td>0.603402</td>\n",
       "      <td>0.845782</td>\n",
       "      <td>0.307077</td>\n",
       "      <td>0.9186</td>\n",
       "    </tr>\n",
       "    <tr>\n",
       "      <th>1</th>\n",
       "      <td>0.286625</td>\n",
       "      <td>0.919418</td>\n",
       "      <td>0.238694</td>\n",
       "      <td>0.9346</td>\n",
       "    </tr>\n",
       "    <tr>\n",
       "      <th>2</th>\n",
       "      <td>0.232268</td>\n",
       "      <td>0.934273</td>\n",
       "      <td>0.197161</td>\n",
       "      <td>0.9444</td>\n",
       "    </tr>\n",
       "    <tr>\n",
       "      <th>3</th>\n",
       "      <td>0.196823</td>\n",
       "      <td>0.944400</td>\n",
       "      <td>0.171203</td>\n",
       "      <td>0.9516</td>\n",
       "    </tr>\n",
       "    <tr>\n",
       "      <th>4</th>\n",
       "      <td>0.171391</td>\n",
       "      <td>0.951164</td>\n",
       "      <td>0.153640</td>\n",
       "      <td>0.9574</td>\n",
       "    </tr>\n",
       "    <tr>\n",
       "      <th>5</th>\n",
       "      <td>0.152195</td>\n",
       "      <td>0.956927</td>\n",
       "      <td>0.140255</td>\n",
       "      <td>0.9626</td>\n",
       "    </tr>\n",
       "    <tr>\n",
       "      <th>6</th>\n",
       "      <td>0.136854</td>\n",
       "      <td>0.960836</td>\n",
       "      <td>0.129056</td>\n",
       "      <td>0.9640</td>\n",
       "    </tr>\n",
       "    <tr>\n",
       "      <th>7</th>\n",
       "      <td>0.124191</td>\n",
       "      <td>0.965073</td>\n",
       "      <td>0.121328</td>\n",
       "      <td>0.9670</td>\n",
       "    </tr>\n",
       "    <tr>\n",
       "      <th>8</th>\n",
       "      <td>0.113134</td>\n",
       "      <td>0.968200</td>\n",
       "      <td>0.114026</td>\n",
       "      <td>0.9698</td>\n",
       "    </tr>\n",
       "    <tr>\n",
       "      <th>9</th>\n",
       "      <td>0.103912</td>\n",
       "      <td>0.970636</td>\n",
       "      <td>0.108497</td>\n",
       "      <td>0.9692</td>\n",
       "    </tr>\n",
       "    <tr>\n",
       "      <th>10</th>\n",
       "      <td>0.095864</td>\n",
       "      <td>0.973091</td>\n",
       "      <td>0.101117</td>\n",
       "      <td>0.9732</td>\n",
       "    </tr>\n",
       "    <tr>\n",
       "      <th>11</th>\n",
       "      <td>0.088140</td>\n",
       "      <td>0.975727</td>\n",
       "      <td>0.095801</td>\n",
       "      <td>0.9734</td>\n",
       "    </tr>\n",
       "    <tr>\n",
       "      <th>12</th>\n",
       "      <td>0.082236</td>\n",
       "      <td>0.976927</td>\n",
       "      <td>0.092431</td>\n",
       "      <td>0.9738</td>\n",
       "    </tr>\n",
       "    <tr>\n",
       "      <th>13</th>\n",
       "      <td>0.076220</td>\n",
       "      <td>0.978855</td>\n",
       "      <td>0.090950</td>\n",
       "      <td>0.9750</td>\n",
       "    </tr>\n",
       "    <tr>\n",
       "      <th>14</th>\n",
       "      <td>0.070764</td>\n",
       "      <td>0.980255</td>\n",
       "      <td>0.087403</td>\n",
       "      <td>0.9766</td>\n",
       "    </tr>\n",
       "    <tr>\n",
       "      <th>15</th>\n",
       "      <td>0.066205</td>\n",
       "      <td>0.982164</td>\n",
       "      <td>0.083725</td>\n",
       "      <td>0.9752</td>\n",
       "    </tr>\n",
       "    <tr>\n",
       "      <th>16</th>\n",
       "      <td>0.062015</td>\n",
       "      <td>0.983436</td>\n",
       "      <td>0.080253</td>\n",
       "      <td>0.9764</td>\n",
       "    </tr>\n",
       "    <tr>\n",
       "      <th>17</th>\n",
       "      <td>0.057638</td>\n",
       "      <td>0.985091</td>\n",
       "      <td>0.077613</td>\n",
       "      <td>0.9768</td>\n",
       "    </tr>\n",
       "    <tr>\n",
       "      <th>18</th>\n",
       "      <td>0.054057</td>\n",
       "      <td>0.985818</td>\n",
       "      <td>0.075916</td>\n",
       "      <td>0.9786</td>\n",
       "    </tr>\n",
       "    <tr>\n",
       "      <th>19</th>\n",
       "      <td>0.050566</td>\n",
       "      <td>0.986709</td>\n",
       "      <td>0.075499</td>\n",
       "      <td>0.9774</td>\n",
       "    </tr>\n",
       "    <tr>\n",
       "      <th>20</th>\n",
       "      <td>0.047729</td>\n",
       "      <td>0.987200</td>\n",
       "      <td>0.073815</td>\n",
       "      <td>0.9780</td>\n",
       "    </tr>\n",
       "    <tr>\n",
       "      <th>21</th>\n",
       "      <td>0.044644</td>\n",
       "      <td>0.988509</td>\n",
       "      <td>0.070947</td>\n",
       "      <td>0.9800</td>\n",
       "    </tr>\n",
       "    <tr>\n",
       "      <th>22</th>\n",
       "      <td>0.042350</td>\n",
       "      <td>0.988964</td>\n",
       "      <td>0.070437</td>\n",
       "      <td>0.9796</td>\n",
       "    </tr>\n",
       "    <tr>\n",
       "      <th>23</th>\n",
       "      <td>0.039537</td>\n",
       "      <td>0.989855</td>\n",
       "      <td>0.069709</td>\n",
       "      <td>0.9818</td>\n",
       "    </tr>\n",
       "    <tr>\n",
       "      <th>24</th>\n",
       "      <td>0.037081</td>\n",
       "      <td>0.990255</td>\n",
       "      <td>0.069161</td>\n",
       "      <td>0.9808</td>\n",
       "    </tr>\n",
       "    <tr>\n",
       "      <th>25</th>\n",
       "      <td>0.034765</td>\n",
       "      <td>0.991455</td>\n",
       "      <td>0.068385</td>\n",
       "      <td>0.9816</td>\n",
       "    </tr>\n",
       "    <tr>\n",
       "      <th>26</th>\n",
       "      <td>0.033079</td>\n",
       "      <td>0.992036</td>\n",
       "      <td>0.070517</td>\n",
       "      <td>0.9812</td>\n",
       "    </tr>\n",
       "    <tr>\n",
       "      <th>27</th>\n",
       "      <td>0.031192</td>\n",
       "      <td>0.992582</td>\n",
       "      <td>0.067339</td>\n",
       "      <td>0.9812</td>\n",
       "    </tr>\n",
       "    <tr>\n",
       "      <th>28</th>\n",
       "      <td>0.029173</td>\n",
       "      <td>0.993345</td>\n",
       "      <td>0.067365</td>\n",
       "      <td>0.9810</td>\n",
       "    </tr>\n",
       "    <tr>\n",
       "      <th>29</th>\n",
       "      <td>0.027469</td>\n",
       "      <td>0.993909</td>\n",
       "      <td>0.068213</td>\n",
       "      <td>0.9812</td>\n",
       "    </tr>\n",
       "  </tbody>\n",
       "</table>\n",
       "</div>"
      ],
      "text/plain": [
       "        loss  accuracy  val_loss  val_accuracy\n",
       "0   0.603402  0.845782  0.307077        0.9186\n",
       "1   0.286625  0.919418  0.238694        0.9346\n",
       "2   0.232268  0.934273  0.197161        0.9444\n",
       "3   0.196823  0.944400  0.171203        0.9516\n",
       "4   0.171391  0.951164  0.153640        0.9574\n",
       "5   0.152195  0.956927  0.140255        0.9626\n",
       "6   0.136854  0.960836  0.129056        0.9640\n",
       "7   0.124191  0.965073  0.121328        0.9670\n",
       "8   0.113134  0.968200  0.114026        0.9698\n",
       "9   0.103912  0.970636  0.108497        0.9692\n",
       "10  0.095864  0.973091  0.101117        0.9732\n",
       "11  0.088140  0.975727  0.095801        0.9734\n",
       "12  0.082236  0.976927  0.092431        0.9738\n",
       "13  0.076220  0.978855  0.090950        0.9750\n",
       "14  0.070764  0.980255  0.087403        0.9766\n",
       "15  0.066205  0.982164  0.083725        0.9752\n",
       "16  0.062015  0.983436  0.080253        0.9764\n",
       "17  0.057638  0.985091  0.077613        0.9768\n",
       "18  0.054057  0.985818  0.075916        0.9786\n",
       "19  0.050566  0.986709  0.075499        0.9774\n",
       "20  0.047729  0.987200  0.073815        0.9780\n",
       "21  0.044644  0.988509  0.070947        0.9800\n",
       "22  0.042350  0.988964  0.070437        0.9796\n",
       "23  0.039537  0.989855  0.069709        0.9818\n",
       "24  0.037081  0.990255  0.069161        0.9808\n",
       "25  0.034765  0.991455  0.068385        0.9816\n",
       "26  0.033079  0.992036  0.070517        0.9812\n",
       "27  0.031192  0.992582  0.067339        0.9812\n",
       "28  0.029173  0.993345  0.067365        0.9810\n",
       "29  0.027469  0.993909  0.068213        0.9812"
      ]
     },
     "execution_count": 104,
     "metadata": {},
     "output_type": "execute_result"
    }
   ],
   "source": [
    "import pandas as pd\n",
    "pd.DataFrame(history.history)"
   ]
  },
  {
   "cell_type": "code",
   "execution_count": 106,
   "id": "48a5320b",
   "metadata": {},
   "outputs": [
    {
     "data": {
      "text/plain": [
       "<Axes: >"
      ]
     },
     "execution_count": 106,
     "metadata": {},
     "output_type": "execute_result"
    },
    {
     "data": {
      "image/png": "[encoded data removed]",
      "text/plain": [
       "<Figure size 640x480 with 1 Axes>"
      ]
     },
     "metadata": {},
     "output_type": "display_data"
    }
   ],
   "source": [
    "pd.DataFrame(history.history).plot()"
   ]
  },
  {
   "cell_type": "code",
   "execution_count": null,
   "id": "70f0f38c",
   "metadata": {},
   "outputs": [],
   "source": []
  },
  {
   "cell_type": "code",
   "execution_count": 107,
   "id": "f600c5d3",
   "metadata": {},
   "outputs": [
    {
     "name": "stdout",
     "output_type": "stream",
     "text": [
      "313/313 [==============================] - 0s 1ms/step - loss: 2.4345 - accuracy: 0.0922\n"
     ]
    },
    {
     "data": {
      "text/plain": [
       "[2.4344677925109863, 0.09220000356435776]"
      ]
     },
     "execution_count": 107,
     "metadata": {},
     "output_type": "execute_result"
    }
   ],
   "source": [
    "model_arch.evaluate(x_test,y_test)"
   ]
  },
  {
   "cell_type": "code",
   "execution_count": null,
   "id": "39ddf995",
   "metadata": {},
   "outputs": [],
   "source": []
  },
  {
   "cell_type": "markdown",
   "id": "c59d3e24",
   "metadata": {},
   "source": [
    "# Prediction"
   ]
  },
  {
   "cell_type": "code",
   "execution_count": 114,
   "id": "5f54e1d6",
   "metadata": {},
   "outputs": [],
   "source": [
    "x_new=x_test[:3]"
   ]
  },
  {
   "cell_type": "code",
   "execution_count": 115,
   "id": "f6bcd957",
   "metadata": {},
   "outputs": [],
   "source": [
    "actual=y_test[:3]"
   ]
  },
  {
   "cell_type": "code",
   "execution_count": 116,
   "id": "2d3884d1",
   "metadata": {},
   "outputs": [
    {
     "data": {
      "text/plain": [
       "array([7, 2, 1], dtype=uint8)"
      ]
     },
     "execution_count": 116,
     "metadata": {},
     "output_type": "execute_result"
    }
   ],
   "source": [
    "actual"
   ]
  },
  {
   "cell_type": "code",
   "execution_count": 118,
   "id": "cb0eae05",
   "metadata": {},
   "outputs": [
    {
     "name": "stdout",
     "output_type": "stream",
     "text": [
      "1/1 [==============================] - 0s 23ms/step\n"
     ]
    }
   ],
   "source": [
    "y_prob=model_arch.predict(x_new)"
   ]
  },
  {
   "cell_type": "code",
   "execution_count": 130,
   "id": "0bb65e93",
   "metadata": {},
   "outputs": [
    {
     "data": {
      "text/plain": [
       "array([[0.048, 0.075, 0.083, 0.024, 0.161, 0.177, 0.092, 0.074, 0.163,\n",
       "        0.102],\n",
       "       [0.048, 0.077, 0.087, 0.024, 0.157, 0.179, 0.097, 0.065, 0.17 ,\n",
       "        0.097],\n",
       "       [0.047, 0.078, 0.083, 0.024, 0.16 , 0.178, 0.094, 0.068, 0.165,\n",
       "        0.102]], dtype=float32)"
      ]
     },
     "execution_count": 130,
     "metadata": {},
     "output_type": "execute_result"
    }
   ],
   "source": [
    "y_prob.round(3)"
   ]
  },
  {
   "cell_type": "code",
   "execution_count": 131,
   "id": "91951757",
   "metadata": {},
   "outputs": [
    {
     "data": {
      "text/plain": [
       "array([5, 5, 5], dtype=int64)"
      ]
     },
     "execution_count": 131,
     "metadata": {},
     "output_type": "execute_result"
    }
   ],
   "source": [
    "y_pred=np.argmax(y_prob,axis=-1)\n",
    "y_pred"
   ]
  },
  {
   "cell_type": "code",
   "execution_count": 133,
   "id": "f83e5564",
   "metadata": {},
   "outputs": [],
   "source": [
    "# 1.split dataset\n",
    "# 2.Create arch\n",
    "# 3.compile the model -add optimizer,loss function,metrics\n",
    "# 4.fit or train the model - epoch,batch size,val dataset\n",
    "# 5.evaluate the model\n",
    "# 6.predict the model"
   ]
  }
 ],
 "metadata": {
  "kernelspec": {
   "display_name": "Python 3 (ipykernel)",
   "language": "python",
   "name": "python3"
  },
  "language_info": {
   "codemirror_mode": {
    "name": "ipython",
    "version": 3
   },
   "file_extension": ".py",
   "mimetype": "text/x-python",
   "name": "python",
   "nbconvert_exporter": "python",
   "pygments_lexer": "ipython3",
   "version": "3.11.4"
  }
 },
 "nbformat": 4,
 "nbformat_minor": 5
}
