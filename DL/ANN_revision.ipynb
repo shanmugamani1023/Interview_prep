{
 "cells": [
  {
   "cell_type": "code",
   "execution_count": 50,
   "id": "e4593d80",
   "metadata": {},
   "outputs": [],
   "source": [
    "import tensorflow as tf \n",
    "import matplotlib.pyplot as plt"
   ]
  },
  {
   "cell_type": "code",
   "execution_count": 51,
   "id": "ec78d128",
   "metadata": {},
   "outputs": [],
   "source": [
    "import numpy as np\n",
    "import pandas as pd"
   ]
  },
  {
   "cell_type": "code",
   "execution_count": 52,
   "id": "99a63035",
   "metadata": {},
   "outputs": [],
   "source": [
    "# Steps:\n",
    "#     1.fetech dataset,split dataset,scale.\n",
    "#     2.create arch of the model\n",
    "#     3.compile the model (choose loss,optimizer,metrics)\n",
    "#     4.fit the model (train the model)\n",
    "#     5.evaluation\n",
    "#     6.prediction"
   ]
  },
  {
   "cell_type": "code",
   "execution_count": 53,
   "id": "072da518",
   "metadata": {},
   "outputs": [],
   "source": [
    "# Step : 1"
   ]
  },
  {
   "cell_type": "code",
   "execution_count": 73,
   "id": "950af474",
   "metadata": {},
   "outputs": [],
   "source": [
    "mnistdata=tf.keras.datasets.mnist"
   ]
  },
  {
   "cell_type": "code",
   "execution_count": 74,
   "id": "4a874118",
   "metadata": {},
   "outputs": [],
   "source": [
    "(x_train_full,y_train_full),(x_test,y_test)=mnistdata.load_data()"
   ]
  },
  {
   "cell_type": "code",
   "execution_count": 75,
   "id": "0433514b",
   "metadata": {},
   "outputs": [],
   "source": [
    "x_val,x_train=x_train_full[:5000]/255,x_train_full[5000:]/255\n",
    "y_val,y_train=y_train_full[:5000],y_train_full[5000:]\n"
   ]
  },
  {
   "cell_type": "code",
   "execution_count": 76,
   "id": "be00869e",
   "metadata": {},
   "outputs": [],
   "source": [
    "x_test=x_test/255"
   ]
  },
  {
   "cell_type": "code",
   "execution_count": 90,
   "id": "6904e38a",
   "metadata": {},
   "outputs": [
    {
     "data": {
      "text/plain": [
       "array([0, 1, 2, 3, 4, 5, 6, 7, 8, 9], dtype=uint8)"
      ]
     },
     "execution_count": 90,
     "metadata": {},
     "output_type": "execute_result"
    }
   ],
   "source": [
    "np.unique(y_test)"
   ]
  },
  {
   "cell_type": "code",
   "execution_count": 78,
   "id": "5eef4a97",
   "metadata": {},
   "outputs": [
    {
     "data": {
      "text/plain": [
       "7"
      ]
     },
     "execution_count": 78,
     "metadata": {},
     "output_type": "execute_result"
    },
    {
     "data": {
      "image/png": "[encoded data removed]",
      "text/plain": [
       "<Figure size 640x480 with 1 Axes>"
      ]
     },
     "metadata": {},
     "output_type": "display_data"
    }
   ],
   "source": [
    "plt.imshow(x_test[0],cmap=\"binary\")\n",
    "y_test[0]"
   ]
  },
  {
   "cell_type": "code",
   "execution_count": null,
   "id": "fd17ff1f",
   "metadata": {},
   "outputs": [],
   "source": []
  },
  {
   "cell_type": "code",
   "execution_count": 59,
   "id": "82c6a9ee",
   "metadata": {},
   "outputs": [],
   "source": [
    "# Step : 2"
   ]
  },
  {
   "cell_type": "code",
   "execution_count": 79,
   "id": "e12a2844",
   "metadata": {},
   "outputs": [],
   "source": [
    "Layers=[tf.keras.layers.Flatten(input_shape=(28,28),name=\"Inputlayer\"),\n",
    "        tf.keras.layers.Dense(300,activation=\"relu\",name=\"hlayer1\"),\n",
    "        tf.keras.layers.Dense(100,activation=\"relu\",name=\"hlayer2\"),\n",
    "        tf.keras.layers.Dense(10,activation=\"softmax\",name=\"outputlayer\")\n",
    "        ]\n",
    "model_arch=tf.keras.models.Sequential(Layers)"
   ]
  },
  {
   "cell_type": "code",
   "execution_count": 61,
   "id": "c00169ae",
   "metadata": {},
   "outputs": [],
   "source": [
    "#step 3"
   ]
  },
  {
   "cell_type": "code",
   "execution_count": 91,
   "id": "b44fd8da",
   "metadata": {},
   "outputs": [],
   "source": [
    "LOSS_FUNCTION = \"sparse_categorical_crossentropy\" # use => tf.losses.sparse_categorical_crossentropy\n",
    "OPTIMIZER = \"SGD\" # or use with custom learning rate=> tf.keras.optimizers.SGD(0.02)\n",
    "METRICS = [\"accuracy\"]\n",
    "\n"
   ]
  },
  {
   "cell_type": "code",
   "execution_count": 81,
   "id": "13c026a0",
   "metadata": {},
   "outputs": [
    {
     "name": "stdout",
     "output_type": "stream",
     "text": [
      "Model: \"sequential_3\"\n",
      "_________________________________________________________________\n",
      " Layer (type)                Output Shape              Param #   \n",
      "=================================================================\n",
      " Inputlayer (Flatten)        (None, 784)               0         \n",
      "                                                                 \n",
      " hlayer1 (Dense)             (None, 300)               235500    \n",
      "                                                                 \n",
      " hlayer2 (Dense)             (None, 100)               30100     \n",
      "                                                                 \n",
      " outputlayer (Dense)         (None, 10)                1010      \n",
      "                                                                 \n",
      "=================================================================\n",
      "Total params: 266610 (1.02 MB)\n",
      "Trainable params: 266610 (1.02 MB)\n",
      "Non-trainable params: 0 (0.00 Byte)\n",
      "_________________________________________________________________\n"
     ]
    }
   ],
   "source": [
    "model_arch.summary()"
   ]
  },
  {
   "cell_type": "code",
   "execution_count": 93,
   "id": "ed461cf0",
   "metadata": {},
   "outputs": [
    {
     "name": "stdout",
     "output_type": "stream",
     "text": [
      "WARNING:tensorflow:From C:\\Users\\shan\\AppData\\Roaming\\Python\\Python311\\site-packages\\keras\\src\\optimizers\\__init__.py:309: The name tf.train.Optimizer is deprecated. Please use tf.compat.v1.train.Optimizer instead.\n",
      "\n"
     ]
    }
   ],
   "source": [
    "model_arch.compile(metrics=METRICS,optimizer=OPTIMIZER,loss=LOSS_FUNCTION)"
   ]
  },
  {
   "cell_type": "code",
   "execution_count": null,
   "id": "7b387c47",
   "metadata": {},
   "outputs": [],
   "source": []
  },
  {
   "cell_type": "code",
   "execution_count": 94,
   "id": "311f1242",
   "metadata": {},
   "outputs": [],
   "source": [
    "# step 4\n",
    "epochs=30\n",
    "validation_data=(x_val,y_val)\n",
    "batch_size=32"
   ]
  },
  {
   "cell_type": "code",
   "execution_count": 95,
   "id": "c8c60fb7",
   "metadata": {},
   "outputs": [
    {
     "name": "stdout",
     "output_type": "stream",
     "text": [
      "Epoch 1/30\n",
      "WARNING:tensorflow:From C:\\Users\\shan\\AppData\\Roaming\\Python\\Python311\\site-packages\\keras\\src\\utils\\tf_utils.py:492: The name tf.ragged.RaggedTensorValue is deprecated. Please use tf.compat.v1.ragged.RaggedTensorValue instead.\n",
      "\n",
      "WARNING:tensorflow:From C:\\Users\\shan\\AppData\\Roaming\\Python\\Python311\\site-packages\\keras\\src\\engine\\base_layer_utils.py:384: The name tf.executing_eagerly_outside_functions is deprecated. Please use tf.compat.v1.executing_eagerly_outside_functions instead.\n",
      "\n",
      "1719/1719 [==============================] - 11s 5ms/step - loss: 0.6395 - accuracy: 0.8337 - val_loss: 0.3157 - val_accuracy: 0.9134\n",
      "Epoch 2/30\n",
      "1719/1719 [==============================] - 9s 5ms/step - loss: 0.2959 - accuracy: 0.9153 - val_loss: 0.2501 - val_accuracy: 0.9298\n",
      "Epoch 3/30\n",
      "1719/1719 [==============================] - 9s 5ms/step - loss: 0.2434 - accuracy: 0.9304 - val_loss: 0.2107 - val_accuracy: 0.9388\n",
      "Epoch 4/30\n",
      "1719/1719 [==============================] - 9s 5ms/step - loss: 0.2076 - accuracy: 0.9410 - val_loss: 0.1867 - val_accuracy: 0.9504\n",
      "Epoch 5/30\n",
      "1719/1719 [==============================] - 9s 5ms/step - loss: 0.1802 - accuracy: 0.9483 - val_loss: 0.1638 - val_accuracy: 0.9546\n",
      "Epoch 6/30\n",
      "1719/1719 [==============================] - 8s 5ms/step - loss: 0.1591 - accuracy: 0.9550 - val_loss: 0.1545 - val_accuracy: 0.9580\n",
      "Epoch 7/30\n",
      "1719/1719 [==============================] - 9s 5ms/step - loss: 0.1411 - accuracy: 0.9607 - val_loss: 0.1325 - val_accuracy: 0.9642\n",
      "Epoch 8/30\n",
      "1719/1719 [==============================] - 9s 5ms/step - loss: 0.1270 - accuracy: 0.9637 - val_loss: 0.1258 - val_accuracy: 0.9662\n",
      "Epoch 9/30\n",
      "1719/1719 [==============================] - 9s 5ms/step - loss: 0.1152 - accuracy: 0.9675 - val_loss: 0.1152 - val_accuracy: 0.9666\n",
      "Epoch 10/30\n",
      "1719/1719 [==============================] - 9s 5ms/step - loss: 0.1049 - accuracy: 0.9706 - val_loss: 0.1104 - val_accuracy: 0.9686\n",
      "Epoch 11/30\n",
      "1719/1719 [==============================] - 8s 5ms/step - loss: 0.0960 - accuracy: 0.9733 - val_loss: 0.1038 - val_accuracy: 0.9704\n",
      "Epoch 12/30\n",
      "1719/1719 [==============================] - 9s 5ms/step - loss: 0.0889 - accuracy: 0.9753 - val_loss: 0.1028 - val_accuracy: 0.9698\n",
      "Epoch 13/30\n",
      "1719/1719 [==============================] - 8s 5ms/step - loss: 0.0820 - accuracy: 0.9775 - val_loss: 0.0937 - val_accuracy: 0.9742\n",
      "Epoch 14/30\n",
      "1719/1719 [==============================] - 9s 5ms/step - loss: 0.0763 - accuracy: 0.9792 - val_loss: 0.0886 - val_accuracy: 0.9740\n",
      "Epoch 15/30\n",
      "1719/1719 [==============================] - 8s 5ms/step - loss: 0.0707 - accuracy: 0.9806 - val_loss: 0.0877 - val_accuracy: 0.9760\n",
      "Epoch 16/30\n",
      "1719/1719 [==============================] - 9s 5ms/step - loss: 0.0660 - accuracy: 0.9825 - val_loss: 0.0870 - val_accuracy: 0.9744\n",
      "Epoch 17/30\n",
      "1719/1719 [==============================] - 9s 5ms/step - loss: 0.0615 - accuracy: 0.9831 - val_loss: 0.0817 - val_accuracy: 0.9762\n",
      "Epoch 18/30\n",
      "1719/1719 [==============================] - 9s 5ms/step - loss: 0.0574 - accuracy: 0.9842 - val_loss: 0.0818 - val_accuracy: 0.9752\n",
      "Epoch 19/30\n",
      "1719/1719 [==============================] - 9s 5ms/step - loss: 0.0541 - accuracy: 0.9852 - val_loss: 0.0802 - val_accuracy: 0.9758\n",
      "Epoch 20/30\n",
      "1719/1719 [==============================] - 9s 5ms/step - loss: 0.0507 - accuracy: 0.9863 - val_loss: 0.0780 - val_accuracy: 0.9748\n",
      "Epoch 21/30\n",
      "1719/1719 [==============================] - 9s 5ms/step - loss: 0.0475 - accuracy: 0.9874 - val_loss: 0.0760 - val_accuracy: 0.9770\n",
      "Epoch 22/30\n",
      "1719/1719 [==============================] - 8s 5ms/step - loss: 0.0444 - accuracy: 0.9886 - val_loss: 0.0747 - val_accuracy: 0.9780\n",
      "Epoch 23/30\n",
      "1719/1719 [==============================] - 9s 5ms/step - loss: 0.0419 - accuracy: 0.9891 - val_loss: 0.0743 - val_accuracy: 0.9762\n",
      "Epoch 24/30\n",
      "1719/1719 [==============================] - 9s 5ms/step - loss: 0.0395 - accuracy: 0.9899 - val_loss: 0.0734 - val_accuracy: 0.9772\n",
      "Epoch 25/30\n",
      "1719/1719 [==============================] - 9s 5ms/step - loss: 0.0371 - accuracy: 0.9903 - val_loss: 0.0728 - val_accuracy: 0.9774\n",
      "Epoch 26/30\n",
      "1719/1719 [==============================] - 9s 5ms/step - loss: 0.0348 - accuracy: 0.9913 - val_loss: 0.0733 - val_accuracy: 0.9786\n",
      "Epoch 27/30\n",
      "1719/1719 [==============================] - 9s 5ms/step - loss: 0.0329 - accuracy: 0.9918 - val_loss: 0.0717 - val_accuracy: 0.9760\n",
      "Epoch 28/30\n",
      "1719/1719 [==============================] - 8s 5ms/step - loss: 0.0311 - accuracy: 0.9929 - val_loss: 0.0715 - val_accuracy: 0.9770\n",
      "Epoch 29/30\n",
      "1719/1719 [==============================] - 9s 5ms/step - loss: 0.0291 - accuracy: 0.9936 - val_loss: 0.0703 - val_accuracy: 0.9798\n",
      "Epoch 30/30\n",
      "1719/1719 [==============================] - 9s 5ms/step - loss: 0.0276 - accuracy: 0.9938 - val_loss: 0.0717 - val_accuracy: 0.9776\n"
     ]
    }
   ],
   "source": [
    "history=model_arch.fit(x_train,y_train,epochs=epochs,validation_data=validation_data,batch_size=32)"
   ]
  },
  {
   "cell_type": "code",
   "execution_count": 101,
   "id": "27f0c481",
   "metadata": {},
   "outputs": [
    {
     "data": {
      "text/html": [
       "<div>\n",
       "<style scoped>\n",
       "    .dataframe tbody tr th:only-of-type {\n",
       "        vertical-align: middle;\n",
       "    }\n",
       "\n",
       "    .dataframe tbody tr th {\n",
       "        vertical-align: top;\n",
       "    }\n",
       "\n",
       "    .dataframe thead th {\n",
       "        text-align: right;\n",
       "    }\n",
       "</style>\n",
       "<table border=\"1\" class=\"dataframe\">\n",
       "  <thead>\n",
       "    <tr style=\"text-align: right;\">\n",
       "      <th></th>\n",
       "      <th>loss</th>\n",
       "      <th>accuracy</th>\n",
       "      <th>val_loss</th>\n",
       "      <th>val_accuracy</th>\n",
       "    </tr>\n",
       "  </thead>\n",
       "  <tbody>\n",
       "    <tr>\n",
       "      <th>0</th>\n",
       "      <td>0.639455</td>\n",
       "      <td>0.833673</td>\n",
       "      <td>0.315725</td>\n",
       "      <td>0.9134</td>\n",
       "    </tr>\n",
       "    <tr>\n",
       "      <th>1</th>\n",
       "      <td>0.295882</td>\n",
       "      <td>0.915255</td>\n",
       "      <td>0.250055</td>\n",
       "      <td>0.9298</td>\n",
       "    </tr>\n",
       "    <tr>\n",
       "      <th>2</th>\n",
       "      <td>0.243436</td>\n",
       "      <td>0.930382</td>\n",
       "      <td>0.210737</td>\n",
       "      <td>0.9388</td>\n",
       "    </tr>\n",
       "    <tr>\n",
       "      <th>3</th>\n",
       "      <td>0.207629</td>\n",
       "      <td>0.941018</td>\n",
       "      <td>0.186748</td>\n",
       "      <td>0.9504</td>\n",
       "    </tr>\n",
       "    <tr>\n",
       "      <th>4</th>\n",
       "      <td>0.180248</td>\n",
       "      <td>0.948309</td>\n",
       "      <td>0.163809</td>\n",
       "      <td>0.9546</td>\n",
       "    </tr>\n",
       "    <tr>\n",
       "      <th>5</th>\n",
       "      <td>0.159066</td>\n",
       "      <td>0.954964</td>\n",
       "      <td>0.154482</td>\n",
       "      <td>0.9580</td>\n",
       "    </tr>\n",
       "    <tr>\n",
       "      <th>6</th>\n",
       "      <td>0.141053</td>\n",
       "      <td>0.960691</td>\n",
       "      <td>0.132535</td>\n",
       "      <td>0.9642</td>\n",
       "    </tr>\n",
       "    <tr>\n",
       "      <th>7</th>\n",
       "      <td>0.127010</td>\n",
       "      <td>0.963727</td>\n",
       "      <td>0.125782</td>\n",
       "      <td>0.9662</td>\n",
       "    </tr>\n",
       "    <tr>\n",
       "      <th>8</th>\n",
       "      <td>0.115217</td>\n",
       "      <td>0.967545</td>\n",
       "      <td>0.115249</td>\n",
       "      <td>0.9666</td>\n",
       "    </tr>\n",
       "    <tr>\n",
       "      <th>9</th>\n",
       "      <td>0.104874</td>\n",
       "      <td>0.970618</td>\n",
       "      <td>0.110402</td>\n",
       "      <td>0.9686</td>\n",
       "    </tr>\n",
       "    <tr>\n",
       "      <th>10</th>\n",
       "      <td>0.095974</td>\n",
       "      <td>0.973309</td>\n",
       "      <td>0.103837</td>\n",
       "      <td>0.9704</td>\n",
       "    </tr>\n",
       "    <tr>\n",
       "      <th>11</th>\n",
       "      <td>0.088932</td>\n",
       "      <td>0.975327</td>\n",
       "      <td>0.102848</td>\n",
       "      <td>0.9698</td>\n",
       "    </tr>\n",
       "    <tr>\n",
       "      <th>12</th>\n",
       "      <td>0.081994</td>\n",
       "      <td>0.977545</td>\n",
       "      <td>0.093742</td>\n",
       "      <td>0.9742</td>\n",
       "    </tr>\n",
       "    <tr>\n",
       "      <th>13</th>\n",
       "      <td>0.076308</td>\n",
       "      <td>0.979200</td>\n",
       "      <td>0.088596</td>\n",
       "      <td>0.9740</td>\n",
       "    </tr>\n",
       "    <tr>\n",
       "      <th>14</th>\n",
       "      <td>0.070713</td>\n",
       "      <td>0.980618</td>\n",
       "      <td>0.087729</td>\n",
       "      <td>0.9760</td>\n",
       "    </tr>\n",
       "    <tr>\n",
       "      <th>15</th>\n",
       "      <td>0.065980</td>\n",
       "      <td>0.982509</td>\n",
       "      <td>0.087013</td>\n",
       "      <td>0.9744</td>\n",
       "    </tr>\n",
       "    <tr>\n",
       "      <th>16</th>\n",
       "      <td>0.061501</td>\n",
       "      <td>0.983091</td>\n",
       "      <td>0.081653</td>\n",
       "      <td>0.9762</td>\n",
       "    </tr>\n",
       "    <tr>\n",
       "      <th>17</th>\n",
       "      <td>0.057447</td>\n",
       "      <td>0.984236</td>\n",
       "      <td>0.081819</td>\n",
       "      <td>0.9752</td>\n",
       "    </tr>\n",
       "    <tr>\n",
       "      <th>18</th>\n",
       "      <td>0.054141</td>\n",
       "      <td>0.985182</td>\n",
       "      <td>0.080155</td>\n",
       "      <td>0.9758</td>\n",
       "    </tr>\n",
       "    <tr>\n",
       "      <th>19</th>\n",
       "      <td>0.050737</td>\n",
       "      <td>0.986273</td>\n",
       "      <td>0.078033</td>\n",
       "      <td>0.9748</td>\n",
       "    </tr>\n",
       "    <tr>\n",
       "      <th>20</th>\n",
       "      <td>0.047486</td>\n",
       "      <td>0.987364</td>\n",
       "      <td>0.076017</td>\n",
       "      <td>0.9770</td>\n",
       "    </tr>\n",
       "    <tr>\n",
       "      <th>21</th>\n",
       "      <td>0.044382</td>\n",
       "      <td>0.988636</td>\n",
       "      <td>0.074746</td>\n",
       "      <td>0.9780</td>\n",
       "    </tr>\n",
       "    <tr>\n",
       "      <th>22</th>\n",
       "      <td>0.041862</td>\n",
       "      <td>0.989073</td>\n",
       "      <td>0.074274</td>\n",
       "      <td>0.9762</td>\n",
       "    </tr>\n",
       "    <tr>\n",
       "      <th>23</th>\n",
       "      <td>0.039523</td>\n",
       "      <td>0.989873</td>\n",
       "      <td>0.073436</td>\n",
       "      <td>0.9772</td>\n",
       "    </tr>\n",
       "    <tr>\n",
       "      <th>24</th>\n",
       "      <td>0.037102</td>\n",
       "      <td>0.990273</td>\n",
       "      <td>0.072844</td>\n",
       "      <td>0.9774</td>\n",
       "    </tr>\n",
       "    <tr>\n",
       "      <th>25</th>\n",
       "      <td>0.034829</td>\n",
       "      <td>0.991345</td>\n",
       "      <td>0.073326</td>\n",
       "      <td>0.9786</td>\n",
       "    </tr>\n",
       "    <tr>\n",
       "      <th>26</th>\n",
       "      <td>0.032937</td>\n",
       "      <td>0.991764</td>\n",
       "      <td>0.071703</td>\n",
       "      <td>0.9760</td>\n",
       "    </tr>\n",
       "    <tr>\n",
       "      <th>27</th>\n",
       "      <td>0.031072</td>\n",
       "      <td>0.992909</td>\n",
       "      <td>0.071472</td>\n",
       "      <td>0.9770</td>\n",
       "    </tr>\n",
       "    <tr>\n",
       "      <th>28</th>\n",
       "      <td>0.029074</td>\n",
       "      <td>0.993582</td>\n",
       "      <td>0.070324</td>\n",
       "      <td>0.9798</td>\n",
       "    </tr>\n",
       "    <tr>\n",
       "      <th>29</th>\n",
       "      <td>0.027639</td>\n",
       "      <td>0.993836</td>\n",
       "      <td>0.071732</td>\n",
       "      <td>0.9776</td>\n",
       "    </tr>\n",
       "  </tbody>\n",
       "</table>\n",
       "</div>"
      ],
      "text/plain": [
       "        loss  accuracy  val_loss  val_accuracy\n",
       "0   0.639455  0.833673  0.315725        0.9134\n",
       "1   0.295882  0.915255  0.250055        0.9298\n",
       "2   0.243436  0.930382  0.210737        0.9388\n",
       "3   0.207629  0.941018  0.186748        0.9504\n",
       "4   0.180248  0.948309  0.163809        0.9546\n",
       "5   0.159066  0.954964  0.154482        0.9580\n",
       "6   0.141053  0.960691  0.132535        0.9642\n",
       "7   0.127010  0.963727  0.125782        0.9662\n",
       "8   0.115217  0.967545  0.115249        0.9666\n",
       "9   0.104874  0.970618  0.110402        0.9686\n",
       "10  0.095974  0.973309  0.103837        0.9704\n",
       "11  0.088932  0.975327  0.102848        0.9698\n",
       "12  0.081994  0.977545  0.093742        0.9742\n",
       "13  0.076308  0.979200  0.088596        0.9740\n",
       "14  0.070713  0.980618  0.087729        0.9760\n",
       "15  0.065980  0.982509  0.087013        0.9744\n",
       "16  0.061501  0.983091  0.081653        0.9762\n",
       "17  0.057447  0.984236  0.081819        0.9752\n",
       "18  0.054141  0.985182  0.080155        0.9758\n",
       "19  0.050737  0.986273  0.078033        0.9748\n",
       "20  0.047486  0.987364  0.076017        0.9770\n",
       "21  0.044382  0.988636  0.074746        0.9780\n",
       "22  0.041862  0.989073  0.074274        0.9762\n",
       "23  0.039523  0.989873  0.073436        0.9772\n",
       "24  0.037102  0.990273  0.072844        0.9774\n",
       "25  0.034829  0.991345  0.073326        0.9786\n",
       "26  0.032937  0.991764  0.071703        0.9760\n",
       "27  0.031072  0.992909  0.071472        0.9770\n",
       "28  0.029074  0.993582  0.070324        0.9798\n",
       "29  0.027639  0.993836  0.071732        0.9776"
      ]
     },
     "execution_count": 101,
     "metadata": {},
     "output_type": "execute_result"
    }
   ],
   "source": [
    "pd.DataFrame(history.history)"
   ]
  },
  {
   "cell_type": "code",
   "execution_count": null,
   "id": "48bf5610",
   "metadata": {},
   "outputs": [],
   "source": []
  },
  {
   "cell_type": "code",
   "execution_count": 105,
   "id": "af50b703",
   "metadata": {},
   "outputs": [
    {
     "data": {
      "text/plain": [
       "<Axes: >"
      ]
     },
     "execution_count": 105,
     "metadata": {},
     "output_type": "execute_result"
    },
    {
     "data": {
      "image/png": "[encoded data removed]",
      "text/plain": [
       "<Figure size 640x480 with 1 Axes>"
      ]
     },
     "metadata": {},
     "output_type": "display_data"
    }
   ],
   "source": [
    "pd.DataFrame(history.history).plot()"
   ]
  },
  {
   "cell_type": "code",
   "execution_count": null,
   "id": "9aa7e4c0",
   "metadata": {},
   "outputs": [],
   "source": []
  },
  {
   "cell_type": "code",
   "execution_count": 106,
   "id": "28823946",
   "metadata": {},
   "outputs": [
    {
     "name": "stdout",
     "output_type": "stream",
     "text": [
      "313/313 [==============================] - 1s 4ms/step - loss: 0.0697 - accuracy: 0.9774\n"
     ]
    },
    {
     "data": {
      "text/plain": [
       "[0.06973085552453995, 0.977400004863739]"
      ]
     },
     "execution_count": 106,
     "metadata": {},
     "output_type": "execute_result"
    }
   ],
   "source": [
    "model_arch.evaluate(x_test,y_test)"
   ]
  },
  {
   "cell_type": "code",
   "execution_count": null,
   "id": "ba0f2cb3",
   "metadata": {},
   "outputs": [],
   "source": []
  },
  {
   "cell_type": "code",
   "execution_count": 110,
   "id": "cffee0e2",
   "metadata": {},
   "outputs": [],
   "source": [
    "x=x_test[:3]\n"
   ]
  },
  {
   "cell_type": "code",
   "execution_count": 111,
   "id": "ce1018c9",
   "metadata": {},
   "outputs": [
    {
     "data": {
      "text/plain": [
       "array([7, 2, 1], dtype=uint8)"
      ]
     },
     "execution_count": 111,
     "metadata": {},
     "output_type": "execute_result"
    }
   ],
   "source": [
    "y_act=y_test[:3]\n",
    "y_act"
   ]
  },
  {
   "cell_type": "code",
   "execution_count": 112,
   "id": "55032d8f",
   "metadata": {},
   "outputs": [
    {
     "name": "stdout",
     "output_type": "stream",
     "text": [
      "1/1 [==============================] - 0s 89ms/step\n"
     ]
    }
   ],
   "source": [
    "y_pred=model_arch.predict(x)"
   ]
  },
  {
   "cell_type": "code",
   "execution_count": 115,
   "id": "8972fa68",
   "metadata": {},
   "outputs": [],
   "source": [
    "y_pred=np.argmax(y_pred,axis=-1)"
   ]
  },
  {
   "cell_type": "code",
   "execution_count": 116,
   "id": "65d619bd",
   "metadata": {},
   "outputs": [
    {
     "data": {
      "text/plain": [
       "array([7, 2, 1], dtype=int64)"
      ]
     },
     "execution_count": 116,
     "metadata": {},
     "output_type": "execute_result"
    }
   ],
   "source": [
    "y_pred"
   ]
  },
  {
   "cell_type": "code",
   "execution_count": null,
   "id": "5450bad5",
   "metadata": {},
   "outputs": [],
   "source": []
  }
 ],
 "metadata": {
  "kernelspec": {
   "display_name": "Python 3 (ipykernel)",
   "language": "python",
   "name": "python3"
  },
  "language_info": {
   "codemirror_mode": {
    "name": "ipython",
    "version": 3
   },
   "file_extension": ".py",
   "mimetype": "text/x-python",
   "name": "python",
   "nbconvert_exporter": "python",
   "pygments_lexer": "ipython3",
   "version": "3.11.4"
  }
 },
 "nbformat": 4,
 "nbformat_minor": 5
}
