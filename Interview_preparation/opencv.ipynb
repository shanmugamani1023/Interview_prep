{
 "cells": [
  {
   "cell_type": "code",
   "execution_count": 5,
   "id": "1d40ea20",
   "metadata": {},
   "outputs": [],
   "source": [
    "import cv2\n",
    "import matplotlib.pyplot as plt"
   ]
  },
  {
   "cell_type": "code",
   "execution_count": 42,
   "id": "67921852",
   "metadata": {},
   "outputs": [],
   "source": [
    "#image reading\n",
    "img=cv2.imread(\"cat.jpg\")\n",
    "\n",
    "RGB=cv2.cvtColor(img,cv2.COLOR_BGR2RGB)\n",
    "GREY=cv2.cvtColor(img,cv2.COLOR_BGR2GRAY)\n",
    "\n",
    "#resizing\n",
    "\n",
    "resized_image=cv2.resize(img,(300,300),cv2.INTER_LINEAR)\n",
    "cv2.imshow(\"input\",img)\n",
    "cv2.imshow(\"RGB\",RGB)\n",
    "cv2.imshow(\"GREY\",GREY)\n",
    "\n",
    "\n",
    "cv2.imshow(\"resized_image\",resized_image)\n",
    "\n",
    "#crop\n",
    "crop=img[10:500,10:500]\n",
    "cv2.imshow(\"crop\",crop)\n",
    "cv2.waitKey(0)\n",
    "cv2.destroyAllWindows()"
   ]
  },
  {
   "cell_type": "code",
   "execution_count": 43,
   "id": "70ff5c93",
   "metadata": {},
   "outputs": [
    {
     "data": {
      "text/plain": [
       "(703, 463, 3)"
      ]
     },
     "execution_count": 43,
     "metadata": {},
     "output_type": "execute_result"
    }
   ],
   "source": [
    "#resize\n",
    "w=img.shape[1]\n",
    "h=img.shape[0]\n",
    "c=img.shape[2]\n",
    "w,h,c"
   ]
  },
  {
   "cell_type": "code",
   "execution_count": null,
   "id": "7d27967b",
   "metadata": {},
   "outputs": [],
   "source": []
  },
  {
   "cell_type": "code",
   "execution_count": null,
   "id": "cac2ec5f",
   "metadata": {},
   "outputs": [],
   "source": []
  },
  {
   "cell_type": "code",
   "execution_count": null,
   "id": "5aeee076",
   "metadata": {},
   "outputs": [],
   "source": []
  },
  {
   "cell_type": "code",
   "execution_count": null,
   "id": "5d229350",
   "metadata": {},
   "outputs": [],
   "source": []
  },
  {
   "cell_type": "code",
   "execution_count": null,
   "id": "23a919ed",
   "metadata": {},
   "outputs": [],
   "source": []
  },
  {
   "cell_type": "code",
   "execution_count": null,
   "id": "83247143",
   "metadata": {},
   "outputs": [],
   "source": []
  },
  {
   "cell_type": "code",
   "execution_count": null,
   "id": "437e8a5d",
   "metadata": {},
   "outputs": [],
   "source": []
  },
  {
   "cell_type": "code",
   "execution_count": null,
   "id": "beb47f0d",
   "metadata": {},
   "outputs": [],
   "source": []
  },
  {
   "cell_type": "code",
   "execution_count": null,
   "id": "f00e970b",
   "metadata": {},
   "outputs": [],
   "source": []
  },
  {
   "cell_type": "code",
   "execution_count": null,
   "id": "cf846d79",
   "metadata": {},
   "outputs": [],
   "source": []
  }
 ],
 "metadata": {
  "kernelspec": {
   "display_name": "Python 3 (ipykernel)",
   "language": "python",
   "name": "python3"
  },
  "language_info": {
   "codemirror_mode": {
    "name": "ipython",
    "version": 3
   },
   "file_extension": ".py",
   "mimetype": "text/x-python",
   "name": "python",
   "nbconvert_exporter": "python",
   "pygments_lexer": "ipython3",
   "version": "3.11.4"
  }
 },
 "nbformat": 4,
 "nbformat_minor": 5
}
