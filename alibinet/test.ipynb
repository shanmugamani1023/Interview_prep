{
 "cells": [
  {
   "cell_type": "code",
   "execution_count": 1,
   "id": "057c5136-e173-41ee-bb61-83d769208366",
   "metadata": {},
   "outputs": [
    {
     "name": "stdout",
     "output_type": "stream",
     "text": [
      "2.14.1\n"
     ]
    }
   ],
   "source": [
    "import os\n",
    "import cv2\n",
    "from PIL import Image\n",
    "import numpy as np\n",
    "import matplotlib.pyplot as plt\n",
    "\n",
    "import tensorflow as tf\n",
    "print(tf.__version__)"
   ]
  },
  {
   "cell_type": "code",
   "execution_count": 2,
   "id": "f979ef46-c3da-479e-8279-3294933a5fde",
   "metadata": {},
   "outputs": [
    {
     "name": "stderr",
     "output_type": "stream",
     "text": [
      "C:\\Users\\shan\\.conda\\envs\\alibi\\Lib\\site-packages\\tqdm\\auto.py:21: TqdmWarning: IProgress not found. Please update jupyter and ipywidgets. See https://ipywidgets.readthedocs.io/en/stable/user_install.html\n",
      "  from .autonotebook import tqdm as notebook_tqdm\n"
     ]
    }
   ],
   "source": [
    "from alibi_detect.utils.saving import save_detector, load_detector \n"
   ]
  },
  {
   "cell_type": "code",
   "execution_count": 4,
   "id": "ab7a761f-fa64-49d4-9fe0-8b28b9c5f3da",
   "metadata": {},
   "outputs": [
    {
     "name": "stdout",
     "output_type": "stream",
     "text": [
      "WARNING:tensorflow:No training configuration found in the save file, so the model was *not* compiled. Compile it manually.\n",
      "WARNING:tensorflow:No training configuration found in the save file, so the model was *not* compiled. Compile it manually.\n"
     ]
    }
   ],
   "source": [
    "od = load_detector(\"saved_models/switch_100epoch_50_dataset.h5\")\n",
    "# Current threshold value is:  0.015"
   ]
  },
  {
   "cell_type": "code",
   "execution_count": 5,
   "id": "ba3d53a3-a158-47a8-85ec-e2a9b86be38b",
   "metadata": {},
   "outputs": [],
   "source": [
    "od.threshold =0.015"
   ]
  },
  {
   "cell_type": "code",
   "execution_count": 74,
   "id": "51db760e-bf62-4bc5-beb8-99c2f558d019",
   "metadata": {},
   "outputs": [],
   "source": []
  },
  {
   "cell_type": "code",
   "execution_count": 19,
   "id": "9764ddde-7a1d-426a-b2f7-868602e62748",
   "metadata": {},
   "outputs": [
    {
     "ename": "AttributeError",
     "evalue": "'NoneType' object has no attribute 'copy'",
     "output_type": "error",
     "traceback": [
      "\u001b[1;31m---------------------------------------------------------------------------\u001b[0m",
      "\u001b[1;31mAttributeError\u001b[0m                            Traceback (most recent call last)",
      "Cell \u001b[1;32mIn[19], line 4\u001b[0m\n\u001b[0;32m      2\u001b[0m SIZE \u001b[38;5;241m=\u001b[39m \u001b[38;5;241m64\u001b[39m\n\u001b[0;32m      3\u001b[0m image \u001b[38;5;241m=\u001b[39m cv2\u001b[38;5;241m.\u001b[39mimread(\u001b[38;5;124m\"\u001b[39m\u001b[38;5;124mDataset/carpet/train/bad/0.jpg\u001b[39m\u001b[38;5;124m\"\u001b[39m)\n\u001b[1;32m----> 4\u001b[0m orginal_image\u001b[38;5;241m=\u001b[39mimage\u001b[38;5;241m.\u001b[39mcopy()\n\u001b[0;32m      5\u001b[0m image \u001b[38;5;241m=\u001b[39m Image\u001b[38;5;241m.\u001b[39mfromarray(image, \u001b[38;5;124m'\u001b[39m\u001b[38;5;124mRGB\u001b[39m\u001b[38;5;124m'\u001b[39m)\n\u001b[0;32m      7\u001b[0m \u001b[38;5;66;03m# plt.imshow(image)\u001b[39;00m\n",
      "\u001b[1;31mAttributeError\u001b[0m: 'NoneType' object has no attribute 'copy'"
     ]
    }
   ],
   "source": [
    "dataset = [] \n",
    "SIZE = 64\n",
    "image = cv2.imread(\"Dataset/\")\n",
    "orginal_image=image.copy()\n",
    "image = Image.fromarray(image, 'RGB')\n",
    "\n",
    "# plt.imshow(image)\n",
    "image = image.resize((SIZE, SIZE))\n",
    "dataset.append(np.array(image))\n",
    "dataset = np.array(dataset)\n",
    "dataset = dataset.astype('float32') / 255.\n",
    "img_num = 0\n",
    "test_bad_image = dataset[img_num].reshape(1, 64, 64, 3)\n",
    "\n",
    "# plt.imshow(test_bad_image[0])\n",
    "test_bad_image_recon = od.vae(test_bad_image)\n",
    "test_bad_image_recon = test_bad_image_recon.numpy()\n",
    "# plt.imshow(test_bad_image_recon[0])\n",
    "test_bad_image_predict = od.predict(test_bad_image) #Returns a dictionary of data and metadata\n",
    "\n",
    "#Data dictionary contains the instance_score, feature_score, and whether it is an outlier or not. \n",
    "#Let u look at the values under the 'data' key in our output dictionary\n",
    "bad_image_instance_score = test_bad_image_predict['data']['instance_score'][0]\n",
    "print(\"The instance score is:\", bad_image_instance_score)\n",
    "\n",
    "bad_image_feature_score = test_bad_image_predict['data']['feature_score'][0]\n",
    "# plt.imshow(bad_image_feature_score[:,:,0])\n",
    "print(\"Is this image an outlier (0 for NO and 1 for YES)?\", test_bad_image_predict['data']['is_outlier'][0])\n",
    "if test_bad_image_predict['data']['is_outlier'][0]:\n",
    "    print(\"yes given image is outier\")\n",
    "    cv2.putText(orginal_image, str(\"NOK\"), (100, 100), cv2.FONT_HERSHEY_SIMPLEX, 2, (0, 0, 255), 2, None, None)\n",
    "\n",
    "else:\n",
    "    print(\"No given image is not outier\")\n",
    "    cv2.putText(orginal_image, str(\"OK\"), (100, 100), cv2.FONT_HERSHEY_SIMPLEX, 2, (0, 255, 0), 2, None, None)\n",
    "    \n",
    "\n",
    "cv2.imshow(\"check\",cv2.resize(orginal_image,(800,800)))\n",
    "cv2.waitKey(0)\n",
    "cv2.destroyAllWindows()\n",
    "    \n"
   ]
  },
  {
   "cell_type": "code",
   "execution_count": 11,
   "id": "fd349a48-eeaf-4af9-a03f-31d1c62c3c6e",
   "metadata": {},
   "outputs": [
    {
     "name": "stdout",
     "output_type": "stream",
     "text": [
      "The instance score is: 0.0020576618\n",
      "Is this image an outlier (0 for NO and 1 for YES)? 0\n",
      "No given image is not outier 0.jpg\n",
      "The instance score is: 0.06345649\n",
      "Is this image an outlier (0 for NO and 1 for YES)? 1\n",
      "yes given image is outier 1.jpg\n",
      "The instance score is: 0.04963471\n",
      "Is this image an outlier (0 for NO and 1 for YES)? 1\n",
      "yes given image is outier 11.jpg\n",
      "The instance score is: 0.06269901\n",
      "Is this image an outlier (0 for NO and 1 for YES)? 1\n",
      "yes given image is outier 2.jpg\n",
      "The instance score is: 0.04730922\n",
      "Is this image an outlier (0 for NO and 1 for YES)? 1\n",
      "yes given image is outier 3.jpg\n",
      "The instance score is: 0.051290993\n",
      "Is this image an outlier (0 for NO and 1 for YES)? 1\n",
      "yes given image is outier 4.jpg\n",
      "The instance score is: 0.04356329\n",
      "Is this image an outlier (0 for NO and 1 for YES)? 1\n",
      "yes given image is outier 5.jpg\n",
      "The instance score is: 0.032773845\n",
      "Is this image an outlier (0 for NO and 1 for YES)? 1\n",
      "yes given image is outier 8.jpg\n",
      "The instance score is: 0.031942744\n",
      "Is this image an outlier (0 for NO and 1 for YES)? 1\n",
      "yes given image is outier 9.jpg\n"
     ]
    }
   ],
   "source": [
    "import cv2\n",
    "import os\n",
    "\n",
    "directory_path = 'Dataset/switch_text/test'\n",
    "image_files = [f for f in os.listdir(directory_path) if f.endswith(('.png', '.jpg', '.jpeg'))]\n",
    "\n",
    "for image_file in image_files:\n",
    "    dataset = [] \n",
    "    SIZE = 64\n",
    "    image_path = os.path.join(directory_path, image_file)\n",
    "    image = cv2.imread(image_path)\n",
    "    orginal_image=image.copy()\n",
    "    image = Image.fromarray(image, 'RGB')\n",
    "\n",
    "# plt.imshow(image)\n",
    "    image = image.resize((SIZE, SIZE))\n",
    "    dataset.append(np.array(image))\n",
    "    dataset = np.array(dataset)\n",
    "    dataset = dataset.astype('float32') / 255.\n",
    "    img_num = 0\n",
    "    test_bad_image = dataset[img_num].reshape(1, 64, 64, 3)\n",
    "\n",
    "# plt.imshow(test_bad_image[0])\n",
    "    test_bad_image_recon = od.vae(test_bad_image)\n",
    "    test_bad_image_recon = test_bad_image_recon.numpy()\n",
    "# plt.imshow(test_bad_image_recon[0])\n",
    "    test_bad_image_predict = od.predict(test_bad_image) #Returns a dictionary of data and metadata\n",
    "\n",
    "#Data dictionary contains the instance_score, feature_score, and whether it is an outlier or not. \n",
    "#Let u look at the values under the 'data' key in our output dictionary\n",
    "    bad_image_instance_score = test_bad_image_predict['data']['instance_score'][0]\n",
    "    print(\"The instance score is:\", bad_image_instance_score)\n",
    "\n",
    "    bad_image_feature_score = test_bad_image_predict['data']['feature_score'][0]\n",
    "# plt.imshow(bad_image_feature_score[:,:,0])\n",
    "    print(\"Is this image an outlier (0 for NO and 1 for YES)?\", test_bad_image_predict['data']['is_outlier'][0])\n",
    "    if test_bad_image_predict['data']['is_outlier'][0]:\n",
    "        print(\"yes given image is outier\",str(image_file))\n",
    "        cv2.putText(orginal_image, str(\"NOK\"), (5, 30), cv2.FONT_HERSHEY_SIMPLEX, 1, (0, 0, 255), 1, None, None)\n",
    "\n",
    "    else:\n",
    "        print(\"No given image is not outier\",str(image_file))\n",
    "        cv2.putText(orginal_image, str(\"OK\"), (5, 30), cv2.FONT_HERSHEY_SIMPLEX, 1, (0, 255, 0), 1, None, None)\n",
    "    \n",
    "    \n",
    "\n",
    "    # Check if the image is successfully loaded\n",
    "    if image is not None:\n",
    "        cv2.imshow('Image', cv2.resize(orginal_image,(800,800)))\n",
    "        cv2.waitKey(0)  # Wait until a key is pressed\n",
    "        cv2.destroyAllWindows()\n",
    "    else:\n",
    "        print(f\"Failed to load image: {image_path}\")\n"
   ]
  }
 ],
 "metadata": {
  "kernelspec": {
   "display_name": "Python 3 (ipykernel)",
   "language": "python",
   "name": "python3"
  },
  "language_info": {
   "codemirror_mode": {
    "name": "ipython",
    "version": 3
   },
   "file_extension": ".py",
   "mimetype": "text/x-python",
   "name": "python",
   "nbconvert_exporter": "python",
   "pygments_lexer": "ipython3",
   "version": "3.11.7"
  }
 },
 "nbformat": 4,
 "nbformat_minor": 5
}
