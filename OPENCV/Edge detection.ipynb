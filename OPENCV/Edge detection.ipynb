{
 "cells": [
  {
   "cell_type": "code",
   "execution_count": 1,
   "id": "fd4f2721",
   "metadata": {},
   "outputs": [],
   "source": [
    "import cv2"
   ]
  },
  {
   "cell_type": "code",
   "execution_count": 7,
   "id": "a4a5a2dd",
   "metadata": {},
   "outputs": [],
   "source": [
    "image=cv2.imread(\"images/cat.jpg\")"
   ]
  },
  {
   "cell_type": "code",
   "execution_count": 8,
   "id": "07f16aee",
   "metadata": {},
   "outputs": [],
   "source": [
    "gray=cv2.cvtColor(image,cv2.COLOR_BGR2GRAY)"
   ]
  },
  {
   "cell_type": "code",
   "execution_count": 13,
   "id": "2c032c0e",
   "metadata": {},
   "outputs": [],
   "source": [
    "gray=cv2.GaussianBlur(gray,(3,3),0)"
   ]
  },
  {
   "cell_type": "code",
   "execution_count": 28,
   "id": "ea4048b0",
   "metadata": {},
   "outputs": [],
   "source": [
    "canny=cv2.Canny(gray,100,200)"
   ]
  },
  {
   "cell_type": "code",
   "execution_count": 29,
   "id": "337e8402",
   "metadata": {},
   "outputs": [],
   "source": [
    "cv2.imshow(\"gray\",gray)\n",
    "cv2.imshow(\"canny\",canny)\n",
    "cv2.waitKey(0)\n",
    "cv2.destroyAllWindows()"
   ]
  },
  {
   "cell_type": "code",
   "execution_count": null,
   "id": "ad85492b",
   "metadata": {},
   "outputs": [],
   "source": []
  }
 ],
 "metadata": {
  "kernelspec": {
   "display_name": "Python 3 (ipykernel)",
   "language": "python",
   "name": "python3"
  },
  "language_info": {
   "codemirror_mode": {
    "name": "ipython",
    "version": 3
   },
   "file_extension": ".py",
   "mimetype": "text/x-python",
   "name": "python",
   "nbconvert_exporter": "python",
   "pygments_lexer": "ipython3",
   "version": "3.11.4"
  }
 },
 "nbformat": 4,
 "nbformat_minor": 5
}
